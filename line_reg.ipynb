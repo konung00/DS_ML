{
  "nbformat": 4,
  "nbformat_minor": 0,
  "metadata": {
    "colab": {
      "name": "line_reg.ipynb",
      "provenance": [],
      "collapsed_sections": [],
      "toc_visible": true,
      "authorship_tag": "ABX9TyOaBQl8q2OqxxLFEeY9HqjY",
      "include_colab_link": true
    },
    "kernelspec": {
      "name": "python3",
      "display_name": "Python 3"
    },
    "language_info": {
      "name": "python"
    }
  },
  "cells": [
    {
      "cell_type": "markdown",
      "metadata": {
        "id": "view-in-github",
        "colab_type": "text"
      },
      "source": [
        "<a href=\"https://colab.research.google.com/github/konung00/DS_ML/blob/main/line_reg.ipynb\" target=\"_parent\"><img src=\"https://colab.research.google.com/assets/colab-badge.svg\" alt=\"Open In Colab\"/></a>"
      ]
    },
    {
      "cell_type": "code",
      "execution_count": null,
      "metadata": {
        "colab": {
          "base_uri": "https://localhost:8080/"
        },
        "id": "T8y83rtY6UOl",
        "outputId": "d6aec1f4-6737-4609-9508-8c9f85ede459"
      },
      "outputs": [
        {
          "output_type": "stream",
          "name": "stdout",
          "text": [
            "Mounted at /content/gdrive\n"
          ]
        },
        {
          "output_type": "stream",
          "name": "stderr",
          "text": [
            "/usr/local/lib/python3.7/dist-packages/statsmodels/tools/_testing.py:19: FutureWarning: pandas.util.testing is deprecated. Use the functions in the public API at pandas.testing instead.\n",
            "  import pandas.util.testing as tm\n"
          ]
        }
      ],
      "source": [
        "from google.colab import drive\n",
        "drive.mount('/content/gdrive')\n",
        "\n",
        "import pandas as pd\n",
        "import numpy as np\n",
        "import matplotlib.pyplot as plt\n",
        "import seaborn as sns\n",
        "from datetime import datetime\n",
        "from itertools import combinations\n",
        "from sklearn.preprocessing import StandardScaler, RobustScaler\n",
        "import statsmodels.formula.api as sm\n",
        "import scipy.stats as st\n",
        "from sklearn.model_selection import train_test_split\n",
        "from sklearn.experimental import enable_iterative_imputer\n",
        "from sklearn.impute import IterativeImputer\n",
        "from sklearn.linear_model import LinearRegression, Ridge, Lasso, ElasticNet\n",
        "from sklearn.pipeline import Pipeline, make_pipeline\n",
        "from sklearn.metrics import r2_score, mean_squared_error, mean_absolute_error\n",
        "from sklearn.model_selection import GridSearchCV\n",
        "from sklearn.decomposition import PCA\n",
        "from sklearn.feature_selection import SelectPercentile, f_regression\n",
        "\n",
        "\n",
        "root_path = 'gdrive/My Drive/datasets/lean_reg_ds/AirQualityUCI.csv'\n",
        "pd.set_option('display.max_rows', 50)\n",
        "pd.set_option('display.max_columns', 50)"
      ]
    },
    {
      "cell_type": "markdown",
      "source": [
        "#Pre-processing:"
      ],
      "metadata": {
        "id": "nDLWAiT37OAm"
      }
    },
    {
      "cell_type": "code",
      "source": [
        "def corr_test_pearson(df: pd.DataFrame) -> None:\n",
        "  \"\"\" It tests for a statistical significance of correlation. H_0: no the correlation; H_1: there is the correlation \"\"\"\n",
        "\n",
        "  for comb in list(combinations(df.columns, 2)):\n",
        "    r, p_val = st.pearsonr(df[comb[0]], df[comb[1]])\n",
        "    result = \"\\033[92m there is a statistical significance \\033[00m\" if p_val < 0.05 else \"\\033[91m there is no a statistical significance \\033[00m\"\n",
        "    print(f\"Test between '{comb[0]}' and '{comb[1]}' male: r-Pearson = {r} and p-value = {p_val}. Thereby {result}.\")\n",
        "\n",
        "\n",
        "def explain_var_plot(pca: PCA) -> None:\n",
        "  \"\"\" Plot a chart with cumulative explained variance ratio \"\"\"\n",
        "\n",
        "  sns.set(rc = {'figure.figsize':(15,8)})\n",
        "  plt.bar(range(0, 10), pca.explained_variance_ratio_, alpha=0.5, align='center', label='individual explained variance')\n",
        "  plt.step(range(0, 10), np.cumsum(pca.explained_variance_ratio_), where='mid', label='cumulative explained variance')\n",
        "  plt.ylabel('Explained variance ratio')\n",
        "  plt.xlabel('Principal components')\n",
        "  plt.legend(loc='best')\n",
        "  plt.tight_layout()\n",
        "  plt.show()\n",
        "\n",
        "\n",
        "def model_pipeline(X: pd.DataFrame, y: pd.Series, pipeline: Pipeline) -> None:\n",
        "  \"\"\" Run a pipeline with X and y \"\"\"\n",
        "\n",
        "  X_train, X_test, y_train, y_test = train_test_split(X, y, test_size=0.3, random_state=4)\n",
        "  pipeline.fit(X_train, y_train)\n",
        "  y_pred = pipeline.predict(X_test)\n",
        "  print(f'MODEL: {str(pipeline.steps)}\\n', \n",
        "              'R^2 = %.3f\\n'%r2_score(y_test, y_pred),\n",
        "              'MSE = %.3f\\n'%mean_squared_error(y_test, y_pred) , \n",
        "              'MAE = %.3f\\n'%mean_absolute_error(y_test, y_pred))\n",
        "  \n",
        "\n",
        "def model_pipeline_grid(X: pd.DataFrame, y: pd.Series, pipeline: Pipeline, hparams: dict, cv: int) -> None:\n",
        "  \"\"\" Run a search of best hyperparameters with pipeline \"\"\"\n",
        "\n",
        "  X_train, X_test, y_train, y_test = train_test_split(X, y, test_size=0.3, random_state=4)\n",
        "  grid = GridSearchCV(pipeline, param_grid=hparams, cv=cv)\n",
        "  grid.fit(X_train, y_train)\n",
        "  print(f'MODEL: {str(pipeline.steps)}\\n', \n",
        "              '\\tBest value of cross test = %.3f\\n'%grid.best_score_ ,\n",
        "              '\\tAccuracy on test data = %.3f\\n'%grid.score(X_test, y_test), \n",
        "              '\\tBest parameters: ', grid.best_params_)"
      ],
      "metadata": {
        "id": "VJU40sY56Kaj"
      },
      "execution_count": null,
      "outputs": []
    },
    {
      "cell_type": "markdown",
      "source": [
        "#Data loading:"
      ],
      "metadata": {
        "id": "rFMqlgTX87-L"
      }
    },
    {
      "cell_type": "code",
      "source": [
        "df = pd.read_csv(root_path, sep=\";\", decimal=\",\", usecols=range(15))\n",
        "df = df.dropna().replace(-200,np.nan)\n",
        "df"
      ],
      "metadata": {
        "colab": {
          "base_uri": "https://localhost:8080/",
          "height": 424
        },
        "id": "fWppZCIW7Xad",
        "outputId": "55ad950e-69af-46bb-af8c-24b2d889644f"
      },
      "execution_count": null,
      "outputs": [
        {
          "output_type": "execute_result",
          "data": {
            "text/plain": [
              "            Date      Time  CO(GT)  PT08.S1(CO)  NMHC(GT)  C6H6(GT)  \\\n",
              "0     10/03/2004  18.00.00     2.6       1360.0     150.0      11.9   \n",
              "1     10/03/2004  19.00.00     2.0       1292.0     112.0       9.4   \n",
              "2     10/03/2004  20.00.00     2.2       1402.0      88.0       9.0   \n",
              "3     10/03/2004  21.00.00     2.2       1376.0      80.0       9.2   \n",
              "4     10/03/2004  22.00.00     1.6       1272.0      51.0       6.5   \n",
              "...          ...       ...     ...          ...       ...       ...   \n",
              "9352  04/04/2005  10.00.00     3.1       1314.0       NaN      13.5   \n",
              "9353  04/04/2005  11.00.00     2.4       1163.0       NaN      11.4   \n",
              "9354  04/04/2005  12.00.00     2.4       1142.0       NaN      12.4   \n",
              "9355  04/04/2005  13.00.00     2.1       1003.0       NaN       9.5   \n",
              "9356  04/04/2005  14.00.00     2.2       1071.0       NaN      11.9   \n",
              "\n",
              "      PT08.S2(NMHC)  NOx(GT)  PT08.S3(NOx)  NO2(GT)  PT08.S4(NO2)  \\\n",
              "0            1046.0    166.0        1056.0    113.0        1692.0   \n",
              "1             955.0    103.0        1174.0     92.0        1559.0   \n",
              "2             939.0    131.0        1140.0    114.0        1555.0   \n",
              "3             948.0    172.0        1092.0    122.0        1584.0   \n",
              "4             836.0    131.0        1205.0    116.0        1490.0   \n",
              "...             ...      ...           ...      ...           ...   \n",
              "9352         1101.0    472.0         539.0    190.0        1374.0   \n",
              "9353         1027.0    353.0         604.0    179.0        1264.0   \n",
              "9354         1063.0    293.0         603.0    175.0        1241.0   \n",
              "9355          961.0    235.0         702.0    156.0        1041.0   \n",
              "9356         1047.0    265.0         654.0    168.0        1129.0   \n",
              "\n",
              "      PT08.S5(O3)     T    RH      AH  \n",
              "0          1268.0  13.6  48.9  0.7578  \n",
              "1           972.0  13.3  47.7  0.7255  \n",
              "2          1074.0  11.9  54.0  0.7502  \n",
              "3          1203.0  11.0  60.0  0.7867  \n",
              "4          1110.0  11.2  59.6  0.7888  \n",
              "...           ...   ...   ...     ...  \n",
              "9352       1729.0  21.9  29.3  0.7568  \n",
              "9353       1269.0  24.3  23.7  0.7119  \n",
              "9354       1092.0  26.9  18.3  0.6406  \n",
              "9355        770.0  28.3  13.5  0.5139  \n",
              "9356        816.0  28.5  13.1  0.5028  \n",
              "\n",
              "[9357 rows x 15 columns]"
            ],
            "text/html": [
              "\n",
              "  <div id=\"df-0ba94c45-ccd0-4856-8b64-74c44dd3a31c\">\n",
              "    <div class=\"colab-df-container\">\n",
              "      <div>\n",
              "<style scoped>\n",
              "    .dataframe tbody tr th:only-of-type {\n",
              "        vertical-align: middle;\n",
              "    }\n",
              "\n",
              "    .dataframe tbody tr th {\n",
              "        vertical-align: top;\n",
              "    }\n",
              "\n",
              "    .dataframe thead th {\n",
              "        text-align: right;\n",
              "    }\n",
              "</style>\n",
              "<table border=\"1\" class=\"dataframe\">\n",
              "  <thead>\n",
              "    <tr style=\"text-align: right;\">\n",
              "      <th></th>\n",
              "      <th>Date</th>\n",
              "      <th>Time</th>\n",
              "      <th>CO(GT)</th>\n",
              "      <th>PT08.S1(CO)</th>\n",
              "      <th>NMHC(GT)</th>\n",
              "      <th>C6H6(GT)</th>\n",
              "      <th>PT08.S2(NMHC)</th>\n",
              "      <th>NOx(GT)</th>\n",
              "      <th>PT08.S3(NOx)</th>\n",
              "      <th>NO2(GT)</th>\n",
              "      <th>PT08.S4(NO2)</th>\n",
              "      <th>PT08.S5(O3)</th>\n",
              "      <th>T</th>\n",
              "      <th>RH</th>\n",
              "      <th>AH</th>\n",
              "    </tr>\n",
              "  </thead>\n",
              "  <tbody>\n",
              "    <tr>\n",
              "      <th>0</th>\n",
              "      <td>10/03/2004</td>\n",
              "      <td>18.00.00</td>\n",
              "      <td>2.6</td>\n",
              "      <td>1360.0</td>\n",
              "      <td>150.0</td>\n",
              "      <td>11.9</td>\n",
              "      <td>1046.0</td>\n",
              "      <td>166.0</td>\n",
              "      <td>1056.0</td>\n",
              "      <td>113.0</td>\n",
              "      <td>1692.0</td>\n",
              "      <td>1268.0</td>\n",
              "      <td>13.6</td>\n",
              "      <td>48.9</td>\n",
              "      <td>0.7578</td>\n",
              "    </tr>\n",
              "    <tr>\n",
              "      <th>1</th>\n",
              "      <td>10/03/2004</td>\n",
              "      <td>19.00.00</td>\n",
              "      <td>2.0</td>\n",
              "      <td>1292.0</td>\n",
              "      <td>112.0</td>\n",
              "      <td>9.4</td>\n",
              "      <td>955.0</td>\n",
              "      <td>103.0</td>\n",
              "      <td>1174.0</td>\n",
              "      <td>92.0</td>\n",
              "      <td>1559.0</td>\n",
              "      <td>972.0</td>\n",
              "      <td>13.3</td>\n",
              "      <td>47.7</td>\n",
              "      <td>0.7255</td>\n",
              "    </tr>\n",
              "    <tr>\n",
              "      <th>2</th>\n",
              "      <td>10/03/2004</td>\n",
              "      <td>20.00.00</td>\n",
              "      <td>2.2</td>\n",
              "      <td>1402.0</td>\n",
              "      <td>88.0</td>\n",
              "      <td>9.0</td>\n",
              "      <td>939.0</td>\n",
              "      <td>131.0</td>\n",
              "      <td>1140.0</td>\n",
              "      <td>114.0</td>\n",
              "      <td>1555.0</td>\n",
              "      <td>1074.0</td>\n",
              "      <td>11.9</td>\n",
              "      <td>54.0</td>\n",
              "      <td>0.7502</td>\n",
              "    </tr>\n",
              "    <tr>\n",
              "      <th>3</th>\n",
              "      <td>10/03/2004</td>\n",
              "      <td>21.00.00</td>\n",
              "      <td>2.2</td>\n",
              "      <td>1376.0</td>\n",
              "      <td>80.0</td>\n",
              "      <td>9.2</td>\n",
              "      <td>948.0</td>\n",
              "      <td>172.0</td>\n",
              "      <td>1092.0</td>\n",
              "      <td>122.0</td>\n",
              "      <td>1584.0</td>\n",
              "      <td>1203.0</td>\n",
              "      <td>11.0</td>\n",
              "      <td>60.0</td>\n",
              "      <td>0.7867</td>\n",
              "    </tr>\n",
              "    <tr>\n",
              "      <th>4</th>\n",
              "      <td>10/03/2004</td>\n",
              "      <td>22.00.00</td>\n",
              "      <td>1.6</td>\n",
              "      <td>1272.0</td>\n",
              "      <td>51.0</td>\n",
              "      <td>6.5</td>\n",
              "      <td>836.0</td>\n",
              "      <td>131.0</td>\n",
              "      <td>1205.0</td>\n",
              "      <td>116.0</td>\n",
              "      <td>1490.0</td>\n",
              "      <td>1110.0</td>\n",
              "      <td>11.2</td>\n",
              "      <td>59.6</td>\n",
              "      <td>0.7888</td>\n",
              "    </tr>\n",
              "    <tr>\n",
              "      <th>...</th>\n",
              "      <td>...</td>\n",
              "      <td>...</td>\n",
              "      <td>...</td>\n",
              "      <td>...</td>\n",
              "      <td>...</td>\n",
              "      <td>...</td>\n",
              "      <td>...</td>\n",
              "      <td>...</td>\n",
              "      <td>...</td>\n",
              "      <td>...</td>\n",
              "      <td>...</td>\n",
              "      <td>...</td>\n",
              "      <td>...</td>\n",
              "      <td>...</td>\n",
              "      <td>...</td>\n",
              "    </tr>\n",
              "    <tr>\n",
              "      <th>9352</th>\n",
              "      <td>04/04/2005</td>\n",
              "      <td>10.00.00</td>\n",
              "      <td>3.1</td>\n",
              "      <td>1314.0</td>\n",
              "      <td>NaN</td>\n",
              "      <td>13.5</td>\n",
              "      <td>1101.0</td>\n",
              "      <td>472.0</td>\n",
              "      <td>539.0</td>\n",
              "      <td>190.0</td>\n",
              "      <td>1374.0</td>\n",
              "      <td>1729.0</td>\n",
              "      <td>21.9</td>\n",
              "      <td>29.3</td>\n",
              "      <td>0.7568</td>\n",
              "    </tr>\n",
              "    <tr>\n",
              "      <th>9353</th>\n",
              "      <td>04/04/2005</td>\n",
              "      <td>11.00.00</td>\n",
              "      <td>2.4</td>\n",
              "      <td>1163.0</td>\n",
              "      <td>NaN</td>\n",
              "      <td>11.4</td>\n",
              "      <td>1027.0</td>\n",
              "      <td>353.0</td>\n",
              "      <td>604.0</td>\n",
              "      <td>179.0</td>\n",
              "      <td>1264.0</td>\n",
              "      <td>1269.0</td>\n",
              "      <td>24.3</td>\n",
              "      <td>23.7</td>\n",
              "      <td>0.7119</td>\n",
              "    </tr>\n",
              "    <tr>\n",
              "      <th>9354</th>\n",
              "      <td>04/04/2005</td>\n",
              "      <td>12.00.00</td>\n",
              "      <td>2.4</td>\n",
              "      <td>1142.0</td>\n",
              "      <td>NaN</td>\n",
              "      <td>12.4</td>\n",
              "      <td>1063.0</td>\n",
              "      <td>293.0</td>\n",
              "      <td>603.0</td>\n",
              "      <td>175.0</td>\n",
              "      <td>1241.0</td>\n",
              "      <td>1092.0</td>\n",
              "      <td>26.9</td>\n",
              "      <td>18.3</td>\n",
              "      <td>0.6406</td>\n",
              "    </tr>\n",
              "    <tr>\n",
              "      <th>9355</th>\n",
              "      <td>04/04/2005</td>\n",
              "      <td>13.00.00</td>\n",
              "      <td>2.1</td>\n",
              "      <td>1003.0</td>\n",
              "      <td>NaN</td>\n",
              "      <td>9.5</td>\n",
              "      <td>961.0</td>\n",
              "      <td>235.0</td>\n",
              "      <td>702.0</td>\n",
              "      <td>156.0</td>\n",
              "      <td>1041.0</td>\n",
              "      <td>770.0</td>\n",
              "      <td>28.3</td>\n",
              "      <td>13.5</td>\n",
              "      <td>0.5139</td>\n",
              "    </tr>\n",
              "    <tr>\n",
              "      <th>9356</th>\n",
              "      <td>04/04/2005</td>\n",
              "      <td>14.00.00</td>\n",
              "      <td>2.2</td>\n",
              "      <td>1071.0</td>\n",
              "      <td>NaN</td>\n",
              "      <td>11.9</td>\n",
              "      <td>1047.0</td>\n",
              "      <td>265.0</td>\n",
              "      <td>654.0</td>\n",
              "      <td>168.0</td>\n",
              "      <td>1129.0</td>\n",
              "      <td>816.0</td>\n",
              "      <td>28.5</td>\n",
              "      <td>13.1</td>\n",
              "      <td>0.5028</td>\n",
              "    </tr>\n",
              "  </tbody>\n",
              "</table>\n",
              "<p>9357 rows × 15 columns</p>\n",
              "</div>\n",
              "      <button class=\"colab-df-convert\" onclick=\"convertToInteractive('df-0ba94c45-ccd0-4856-8b64-74c44dd3a31c')\"\n",
              "              title=\"Convert this dataframe to an interactive table.\"\n",
              "              style=\"display:none;\">\n",
              "        \n",
              "  <svg xmlns=\"http://www.w3.org/2000/svg\" height=\"24px\"viewBox=\"0 0 24 24\"\n",
              "       width=\"24px\">\n",
              "    <path d=\"M0 0h24v24H0V0z\" fill=\"none\"/>\n",
              "    <path d=\"M18.56 5.44l.94 2.06.94-2.06 2.06-.94-2.06-.94-.94-2.06-.94 2.06-2.06.94zm-11 1L8.5 8.5l.94-2.06 2.06-.94-2.06-.94L8.5 2.5l-.94 2.06-2.06.94zm10 10l.94 2.06.94-2.06 2.06-.94-2.06-.94-.94-2.06-.94 2.06-2.06.94z\"/><path d=\"M17.41 7.96l-1.37-1.37c-.4-.4-.92-.59-1.43-.59-.52 0-1.04.2-1.43.59L10.3 9.45l-7.72 7.72c-.78.78-.78 2.05 0 2.83L4 21.41c.39.39.9.59 1.41.59.51 0 1.02-.2 1.41-.59l7.78-7.78 2.81-2.81c.8-.78.8-2.07 0-2.86zM5.41 20L4 18.59l7.72-7.72 1.47 1.35L5.41 20z\"/>\n",
              "  </svg>\n",
              "      </button>\n",
              "      \n",
              "  <style>\n",
              "    .colab-df-container {\n",
              "      display:flex;\n",
              "      flex-wrap:wrap;\n",
              "      gap: 12px;\n",
              "    }\n",
              "\n",
              "    .colab-df-convert {\n",
              "      background-color: #E8F0FE;\n",
              "      border: none;\n",
              "      border-radius: 50%;\n",
              "      cursor: pointer;\n",
              "      display: none;\n",
              "      fill: #1967D2;\n",
              "      height: 32px;\n",
              "      padding: 0 0 0 0;\n",
              "      width: 32px;\n",
              "    }\n",
              "\n",
              "    .colab-df-convert:hover {\n",
              "      background-color: #E2EBFA;\n",
              "      box-shadow: 0px 1px 2px rgba(60, 64, 67, 0.3), 0px 1px 3px 1px rgba(60, 64, 67, 0.15);\n",
              "      fill: #174EA6;\n",
              "    }\n",
              "\n",
              "    [theme=dark] .colab-df-convert {\n",
              "      background-color: #3B4455;\n",
              "      fill: #D2E3FC;\n",
              "    }\n",
              "\n",
              "    [theme=dark] .colab-df-convert:hover {\n",
              "      background-color: #434B5C;\n",
              "      box-shadow: 0px 1px 3px 1px rgba(0, 0, 0, 0.15);\n",
              "      filter: drop-shadow(0px 1px 2px rgba(0, 0, 0, 0.3));\n",
              "      fill: #FFFFFF;\n",
              "    }\n",
              "  </style>\n",
              "\n",
              "      <script>\n",
              "        const buttonEl =\n",
              "          document.querySelector('#df-0ba94c45-ccd0-4856-8b64-74c44dd3a31c button.colab-df-convert');\n",
              "        buttonEl.style.display =\n",
              "          google.colab.kernel.accessAllowed ? 'block' : 'none';\n",
              "\n",
              "        async function convertToInteractive(key) {\n",
              "          const element = document.querySelector('#df-0ba94c45-ccd0-4856-8b64-74c44dd3a31c');\n",
              "          const dataTable =\n",
              "            await google.colab.kernel.invokeFunction('convertToInteractive',\n",
              "                                                     [key], {});\n",
              "          if (!dataTable) return;\n",
              "\n",
              "          const docLinkHtml = 'Like what you see? Visit the ' +\n",
              "            '<a target=\"_blank\" href=https://colab.research.google.com/notebooks/data_table.ipynb>data table notebook</a>'\n",
              "            + ' to learn more about interactive tables.';\n",
              "          element.innerHTML = '';\n",
              "          dataTable['output_type'] = 'display_data';\n",
              "          await google.colab.output.renderOutput(dataTable, element);\n",
              "          const docLink = document.createElement('div');\n",
              "          docLink.innerHTML = docLinkHtml;\n",
              "          element.appendChild(docLink);\n",
              "        }\n",
              "      </script>\n",
              "    </div>\n",
              "  </div>\n",
              "  "
            ]
          },
          "metadata": {},
          "execution_count": 3
        }
      ]
    },
    {
      "cell_type": "code",
      "source": [
        "df.info()"
      ],
      "metadata": {
        "colab": {
          "base_uri": "https://localhost:8080/"
        },
        "id": "UUU6QY0x9dFF",
        "outputId": "5cc1f185-c736-42a7-af64-cf71834950db"
      },
      "execution_count": null,
      "outputs": [
        {
          "output_type": "stream",
          "name": "stdout",
          "text": [
            "<class 'pandas.core.frame.DataFrame'>\n",
            "Int64Index: 9357 entries, 0 to 9356\n",
            "Data columns (total 15 columns):\n",
            " #   Column         Non-Null Count  Dtype  \n",
            "---  ------         --------------  -----  \n",
            " 0   Date           9357 non-null   object \n",
            " 1   Time           9357 non-null   object \n",
            " 2   CO(GT)         7674 non-null   float64\n",
            " 3   PT08.S1(CO)    8991 non-null   float64\n",
            " 4   NMHC(GT)       914 non-null    float64\n",
            " 5   C6H6(GT)       8991 non-null   float64\n",
            " 6   PT08.S2(NMHC)  8991 non-null   float64\n",
            " 7   NOx(GT)        7718 non-null   float64\n",
            " 8   PT08.S3(NOx)   8991 non-null   float64\n",
            " 9   NO2(GT)        7715 non-null   float64\n",
            " 10  PT08.S4(NO2)   8991 non-null   float64\n",
            " 11  PT08.S5(O3)    8991 non-null   float64\n",
            " 12  T              8991 non-null   float64\n",
            " 13  RH             8991 non-null   float64\n",
            " 14  AH             8991 non-null   float64\n",
            "dtypes: float64(13), object(2)\n",
            "memory usage: 1.1+ MB\n"
          ]
        }
      ]
    },
    {
      "cell_type": "markdown",
      "source": [
        "Date and time is possible to combine in timestamp."
      ],
      "metadata": {
        "id": "2QF2qnwtXvuu"
      }
    },
    {
      "cell_type": "code",
      "source": [
        "date_time = pd.Series([datetime.strptime(x, \"%d/%m/%Y%H.%M.%S\") for x in df['Date'] + df['Time']])"
      ],
      "metadata": {
        "id": "GPURbW8RSIoL"
      },
      "execution_count": null,
      "outputs": []
    },
    {
      "cell_type": "code",
      "source": [
        "df.insert(0, 'time_stamp', date_time)\n",
        "df.drop([\"Time\", \"Date\"], axis=1, inplace=True)"
      ],
      "metadata": {
        "id": "RzcOl29-ZtwX"
      },
      "execution_count": null,
      "outputs": []
    },
    {
      "cell_type": "code",
      "source": [
        "df.head()"
      ],
      "metadata": {
        "colab": {
          "base_uri": "https://localhost:8080/",
          "height": 206
        },
        "id": "YnDzLEUMaWSk",
        "outputId": "5968c11d-38e7-4d0a-8fe3-0a7a8c6469e7"
      },
      "execution_count": null,
      "outputs": [
        {
          "output_type": "execute_result",
          "data": {
            "text/plain": [
              "           time_stamp  CO(GT)  PT08.S1(CO)  NMHC(GT)  C6H6(GT)  PT08.S2(NMHC)  \\\n",
              "0 2004-03-10 18:00:00     2.6       1360.0     150.0      11.9         1046.0   \n",
              "1 2004-03-10 19:00:00     2.0       1292.0     112.0       9.4          955.0   \n",
              "2 2004-03-10 20:00:00     2.2       1402.0      88.0       9.0          939.0   \n",
              "3 2004-03-10 21:00:00     2.2       1376.0      80.0       9.2          948.0   \n",
              "4 2004-03-10 22:00:00     1.6       1272.0      51.0       6.5          836.0   \n",
              "\n",
              "   NOx(GT)  PT08.S3(NOx)  NO2(GT)  PT08.S4(NO2)  PT08.S5(O3)     T    RH  \\\n",
              "0    166.0        1056.0    113.0        1692.0       1268.0  13.6  48.9   \n",
              "1    103.0        1174.0     92.0        1559.0        972.0  13.3  47.7   \n",
              "2    131.0        1140.0    114.0        1555.0       1074.0  11.9  54.0   \n",
              "3    172.0        1092.0    122.0        1584.0       1203.0  11.0  60.0   \n",
              "4    131.0        1205.0    116.0        1490.0       1110.0  11.2  59.6   \n",
              "\n",
              "       AH  \n",
              "0  0.7578  \n",
              "1  0.7255  \n",
              "2  0.7502  \n",
              "3  0.7867  \n",
              "4  0.7888  "
            ],
            "text/html": [
              "\n",
              "  <div id=\"df-c50feb70-dd24-456f-bac1-7ef269d8de24\">\n",
              "    <div class=\"colab-df-container\">\n",
              "      <div>\n",
              "<style scoped>\n",
              "    .dataframe tbody tr th:only-of-type {\n",
              "        vertical-align: middle;\n",
              "    }\n",
              "\n",
              "    .dataframe tbody tr th {\n",
              "        vertical-align: top;\n",
              "    }\n",
              "\n",
              "    .dataframe thead th {\n",
              "        text-align: right;\n",
              "    }\n",
              "</style>\n",
              "<table border=\"1\" class=\"dataframe\">\n",
              "  <thead>\n",
              "    <tr style=\"text-align: right;\">\n",
              "      <th></th>\n",
              "      <th>time_stamp</th>\n",
              "      <th>CO(GT)</th>\n",
              "      <th>PT08.S1(CO)</th>\n",
              "      <th>NMHC(GT)</th>\n",
              "      <th>C6H6(GT)</th>\n",
              "      <th>PT08.S2(NMHC)</th>\n",
              "      <th>NOx(GT)</th>\n",
              "      <th>PT08.S3(NOx)</th>\n",
              "      <th>NO2(GT)</th>\n",
              "      <th>PT08.S4(NO2)</th>\n",
              "      <th>PT08.S5(O3)</th>\n",
              "      <th>T</th>\n",
              "      <th>RH</th>\n",
              "      <th>AH</th>\n",
              "    </tr>\n",
              "  </thead>\n",
              "  <tbody>\n",
              "    <tr>\n",
              "      <th>0</th>\n",
              "      <td>2004-03-10 18:00:00</td>\n",
              "      <td>2.6</td>\n",
              "      <td>1360.0</td>\n",
              "      <td>150.0</td>\n",
              "      <td>11.9</td>\n",
              "      <td>1046.0</td>\n",
              "      <td>166.0</td>\n",
              "      <td>1056.0</td>\n",
              "      <td>113.0</td>\n",
              "      <td>1692.0</td>\n",
              "      <td>1268.0</td>\n",
              "      <td>13.6</td>\n",
              "      <td>48.9</td>\n",
              "      <td>0.7578</td>\n",
              "    </tr>\n",
              "    <tr>\n",
              "      <th>1</th>\n",
              "      <td>2004-03-10 19:00:00</td>\n",
              "      <td>2.0</td>\n",
              "      <td>1292.0</td>\n",
              "      <td>112.0</td>\n",
              "      <td>9.4</td>\n",
              "      <td>955.0</td>\n",
              "      <td>103.0</td>\n",
              "      <td>1174.0</td>\n",
              "      <td>92.0</td>\n",
              "      <td>1559.0</td>\n",
              "      <td>972.0</td>\n",
              "      <td>13.3</td>\n",
              "      <td>47.7</td>\n",
              "      <td>0.7255</td>\n",
              "    </tr>\n",
              "    <tr>\n",
              "      <th>2</th>\n",
              "      <td>2004-03-10 20:00:00</td>\n",
              "      <td>2.2</td>\n",
              "      <td>1402.0</td>\n",
              "      <td>88.0</td>\n",
              "      <td>9.0</td>\n",
              "      <td>939.0</td>\n",
              "      <td>131.0</td>\n",
              "      <td>1140.0</td>\n",
              "      <td>114.0</td>\n",
              "      <td>1555.0</td>\n",
              "      <td>1074.0</td>\n",
              "      <td>11.9</td>\n",
              "      <td>54.0</td>\n",
              "      <td>0.7502</td>\n",
              "    </tr>\n",
              "    <tr>\n",
              "      <th>3</th>\n",
              "      <td>2004-03-10 21:00:00</td>\n",
              "      <td>2.2</td>\n",
              "      <td>1376.0</td>\n",
              "      <td>80.0</td>\n",
              "      <td>9.2</td>\n",
              "      <td>948.0</td>\n",
              "      <td>172.0</td>\n",
              "      <td>1092.0</td>\n",
              "      <td>122.0</td>\n",
              "      <td>1584.0</td>\n",
              "      <td>1203.0</td>\n",
              "      <td>11.0</td>\n",
              "      <td>60.0</td>\n",
              "      <td>0.7867</td>\n",
              "    </tr>\n",
              "    <tr>\n",
              "      <th>4</th>\n",
              "      <td>2004-03-10 22:00:00</td>\n",
              "      <td>1.6</td>\n",
              "      <td>1272.0</td>\n",
              "      <td>51.0</td>\n",
              "      <td>6.5</td>\n",
              "      <td>836.0</td>\n",
              "      <td>131.0</td>\n",
              "      <td>1205.0</td>\n",
              "      <td>116.0</td>\n",
              "      <td>1490.0</td>\n",
              "      <td>1110.0</td>\n",
              "      <td>11.2</td>\n",
              "      <td>59.6</td>\n",
              "      <td>0.7888</td>\n",
              "    </tr>\n",
              "  </tbody>\n",
              "</table>\n",
              "</div>\n",
              "      <button class=\"colab-df-convert\" onclick=\"convertToInteractive('df-c50feb70-dd24-456f-bac1-7ef269d8de24')\"\n",
              "              title=\"Convert this dataframe to an interactive table.\"\n",
              "              style=\"display:none;\">\n",
              "        \n",
              "  <svg xmlns=\"http://www.w3.org/2000/svg\" height=\"24px\"viewBox=\"0 0 24 24\"\n",
              "       width=\"24px\">\n",
              "    <path d=\"M0 0h24v24H0V0z\" fill=\"none\"/>\n",
              "    <path d=\"M18.56 5.44l.94 2.06.94-2.06 2.06-.94-2.06-.94-.94-2.06-.94 2.06-2.06.94zm-11 1L8.5 8.5l.94-2.06 2.06-.94-2.06-.94L8.5 2.5l-.94 2.06-2.06.94zm10 10l.94 2.06.94-2.06 2.06-.94-2.06-.94-.94-2.06-.94 2.06-2.06.94z\"/><path d=\"M17.41 7.96l-1.37-1.37c-.4-.4-.92-.59-1.43-.59-.52 0-1.04.2-1.43.59L10.3 9.45l-7.72 7.72c-.78.78-.78 2.05 0 2.83L4 21.41c.39.39.9.59 1.41.59.51 0 1.02-.2 1.41-.59l7.78-7.78 2.81-2.81c.8-.78.8-2.07 0-2.86zM5.41 20L4 18.59l7.72-7.72 1.47 1.35L5.41 20z\"/>\n",
              "  </svg>\n",
              "      </button>\n",
              "      \n",
              "  <style>\n",
              "    .colab-df-container {\n",
              "      display:flex;\n",
              "      flex-wrap:wrap;\n",
              "      gap: 12px;\n",
              "    }\n",
              "\n",
              "    .colab-df-convert {\n",
              "      background-color: #E8F0FE;\n",
              "      border: none;\n",
              "      border-radius: 50%;\n",
              "      cursor: pointer;\n",
              "      display: none;\n",
              "      fill: #1967D2;\n",
              "      height: 32px;\n",
              "      padding: 0 0 0 0;\n",
              "      width: 32px;\n",
              "    }\n",
              "\n",
              "    .colab-df-convert:hover {\n",
              "      background-color: #E2EBFA;\n",
              "      box-shadow: 0px 1px 2px rgba(60, 64, 67, 0.3), 0px 1px 3px 1px rgba(60, 64, 67, 0.15);\n",
              "      fill: #174EA6;\n",
              "    }\n",
              "\n",
              "    [theme=dark] .colab-df-convert {\n",
              "      background-color: #3B4455;\n",
              "      fill: #D2E3FC;\n",
              "    }\n",
              "\n",
              "    [theme=dark] .colab-df-convert:hover {\n",
              "      background-color: #434B5C;\n",
              "      box-shadow: 0px 1px 3px 1px rgba(0, 0, 0, 0.15);\n",
              "      filter: drop-shadow(0px 1px 2px rgba(0, 0, 0, 0.3));\n",
              "      fill: #FFFFFF;\n",
              "    }\n",
              "  </style>\n",
              "\n",
              "      <script>\n",
              "        const buttonEl =\n",
              "          document.querySelector('#df-c50feb70-dd24-456f-bac1-7ef269d8de24 button.colab-df-convert');\n",
              "        buttonEl.style.display =\n",
              "          google.colab.kernel.accessAllowed ? 'block' : 'none';\n",
              "\n",
              "        async function convertToInteractive(key) {\n",
              "          const element = document.querySelector('#df-c50feb70-dd24-456f-bac1-7ef269d8de24');\n",
              "          const dataTable =\n",
              "            await google.colab.kernel.invokeFunction('convertToInteractive',\n",
              "                                                     [key], {});\n",
              "          if (!dataTable) return;\n",
              "\n",
              "          const docLinkHtml = 'Like what you see? Visit the ' +\n",
              "            '<a target=\"_blank\" href=https://colab.research.google.com/notebooks/data_table.ipynb>data table notebook</a>'\n",
              "            + ' to learn more about interactive tables.';\n",
              "          element.innerHTML = '';\n",
              "          dataTable['output_type'] = 'display_data';\n",
              "          await google.colab.output.renderOutput(dataTable, element);\n",
              "          const docLink = document.createElement('div');\n",
              "          docLink.innerHTML = docLinkHtml;\n",
              "          element.appendChild(docLink);\n",
              "        }\n",
              "      </script>\n",
              "    </div>\n",
              "  </div>\n",
              "  "
            ]
          },
          "metadata": {},
          "execution_count": 7
        }
      ]
    },
    {
      "cell_type": "markdown",
      "source": [
        "Let's adjust the column names:"
      ],
      "metadata": {
        "id": "Ib3I55GqdPx-"
      }
    },
    {
      "cell_type": "code",
      "source": [
        "df.columns = [name[0].replace('.', '_') for name in df.columns.str.split(\"(\")]"
      ],
      "metadata": {
        "id": "Zt_2qHkLb8c8"
      },
      "execution_count": null,
      "outputs": []
    },
    {
      "cell_type": "code",
      "source": [
        "df.info()"
      ],
      "metadata": {
        "colab": {
          "base_uri": "https://localhost:8080/"
        },
        "id": "FXGuKurGayHi",
        "outputId": "1218e6a8-78ae-43e6-f042-f3feb4483918"
      },
      "execution_count": null,
      "outputs": [
        {
          "output_type": "stream",
          "name": "stdout",
          "text": [
            "<class 'pandas.core.frame.DataFrame'>\n",
            "Int64Index: 9357 entries, 0 to 9356\n",
            "Data columns (total 14 columns):\n",
            " #   Column      Non-Null Count  Dtype         \n",
            "---  ------      --------------  -----         \n",
            " 0   time_stamp  9357 non-null   datetime64[ns]\n",
            " 1   CO          7674 non-null   float64       \n",
            " 2   PT08_S1     8991 non-null   float64       \n",
            " 3   NMHC        914 non-null    float64       \n",
            " 4   C6H6        8991 non-null   float64       \n",
            " 5   PT08_S2     8991 non-null   float64       \n",
            " 6   NOx         7718 non-null   float64       \n",
            " 7   PT08_S3     8991 non-null   float64       \n",
            " 8   NO2         7715 non-null   float64       \n",
            " 9   PT08_S4     8991 non-null   float64       \n",
            " 10  PT08_S5     8991 non-null   float64       \n",
            " 11  T           8991 non-null   float64       \n",
            " 12  RH          8991 non-null   float64       \n",
            " 13  AH          8991 non-null   float64       \n",
            "dtypes: datetime64[ns](1), float64(13)\n",
            "memory usage: 1.1 MB\n"
          ]
        }
      ]
    },
    {
      "cell_type": "markdown",
      "source": [
        "#Exploratory data analysis:"
      ],
      "metadata": {
        "id": "E5GViE4-S5AZ"
      }
    },
    {
      "cell_type": "markdown",
      "source": [
        "Duplicates checking:"
      ],
      "metadata": {
        "id": "VzE2iDZMSfYV"
      }
    },
    {
      "cell_type": "code",
      "source": [
        "df = df.drop_duplicates()\n",
        "df.shape"
      ],
      "metadata": {
        "colab": {
          "base_uri": "https://localhost:8080/"
        },
        "id": "AH-aSGkRSmAK",
        "outputId": "1763b459-c7e9-4954-ad99-26e11fa81ad8"
      },
      "execution_count": null,
      "outputs": [
        {
          "output_type": "execute_result",
          "data": {
            "text/plain": [
              "(9357, 14)"
            ]
          },
          "metadata": {},
          "execution_count": 10
        }
      ]
    },
    {
      "cell_type": "markdown",
      "source": [
        "No dupplicates detected. Let's look at NAN values:"
      ],
      "metadata": {
        "id": "u7CcrPnGSshw"
      }
    },
    {
      "cell_type": "code",
      "source": [
        "for name, col_nan in zip(df.columns, (df.isna().sum())):\n",
        "        print(f\"Column - '{name}' amout of NAN: {col_nan}; percent of NAN: {round(col_nan/len(df), 2) * 100}\")"
      ],
      "metadata": {
        "colab": {
          "base_uri": "https://localhost:8080/"
        },
        "id": "9g_zxIV2SrKJ",
        "outputId": "be82c50b-3f31-4180-a9ab-7aff8dd99fa7"
      },
      "execution_count": null,
      "outputs": [
        {
          "output_type": "stream",
          "name": "stdout",
          "text": [
            "Column - 'time_stamp' amout of NAN: 0; percent of NAN: 0.0\n",
            "Column - 'CO' amout of NAN: 1683; percent of NAN: 18.0\n",
            "Column - 'PT08_S1' amout of NAN: 366; percent of NAN: 4.0\n",
            "Column - 'NMHC' amout of NAN: 8443; percent of NAN: 90.0\n",
            "Column - 'C6H6' amout of NAN: 366; percent of NAN: 4.0\n",
            "Column - 'PT08_S2' amout of NAN: 366; percent of NAN: 4.0\n",
            "Column - 'NOx' amout of NAN: 1639; percent of NAN: 18.0\n",
            "Column - 'PT08_S3' amout of NAN: 366; percent of NAN: 4.0\n",
            "Column - 'NO2' amout of NAN: 1642; percent of NAN: 18.0\n",
            "Column - 'PT08_S4' amout of NAN: 366; percent of NAN: 4.0\n",
            "Column - 'PT08_S5' amout of NAN: 366; percent of NAN: 4.0\n",
            "Column - 'T' amout of NAN: 366; percent of NAN: 4.0\n",
            "Column - 'RH' amout of NAN: 366; percent of NAN: 4.0\n",
            "Column - 'AH' amout of NAN: 366; percent of NAN: 4.0\n"
          ]
        }
      ]
    },
    {
      "cell_type": "markdown",
      "source": [
        "There is a lot of NAN values. Let's try to impute missing values with IterativeImputer class:"
      ],
      "metadata": {
        "id": "mBxQxbeyhIC0"
      }
    },
    {
      "cell_type": "code",
      "source": [
        "numeric_cols = df.select_dtypes(np.float64).columns\n",
        "imp = IterativeImputer(max_iter=10, random_state=4)\n",
        "imp.fit(df.reset_index()[numeric_cols])"
      ],
      "metadata": {
        "colab": {
          "base_uri": "https://localhost:8080/"
        },
        "id": "fMfMy0EN4xIP",
        "outputId": "c81a14cb-9d3f-43b8-8410-5728c51db47d"
      },
      "execution_count": null,
      "outputs": [
        {
          "output_type": "stream",
          "name": "stderr",
          "text": [
            "/usr/local/lib/python3.7/dist-packages/sklearn/impute/_iterative.py:701: ConvergenceWarning: [IterativeImputer] Early stopping criterion not reached.\n",
            "  ConvergenceWarning,\n"
          ]
        },
        {
          "output_type": "execute_result",
          "data": {
            "text/plain": [
              "IterativeImputer(random_state=4)"
            ]
          },
          "metadata": {},
          "execution_count": 12
        }
      ]
    },
    {
      "cell_type": "code",
      "source": [
        "imputed_data = pd.DataFrame(imp.transform(df.reset_index()[numeric_cols]))\n",
        "imputed_data.columns = numeric_cols"
      ],
      "metadata": {
        "id": "nt_dHIok6FbL"
      },
      "execution_count": null,
      "outputs": []
    },
    {
      "cell_type": "code",
      "source": [
        "df[numeric_cols] = imputed_data\n",
        "\n",
        "for name, col_nan in zip(df.columns, (df.isna().sum())):\n",
        "        print(f\"Column - '{name}' amout of NAN: {col_nan}; percent of NAN: {round(col_nan/len(df), 2) * 100}\")"
      ],
      "metadata": {
        "colab": {
          "base_uri": "https://localhost:8080/"
        },
        "id": "qa2B2p-k6QSc",
        "outputId": "66bef448-ae75-496f-8fd9-af4600a110cb"
      },
      "execution_count": null,
      "outputs": [
        {
          "output_type": "stream",
          "name": "stdout",
          "text": [
            "Column - 'time_stamp' amout of NAN: 0; percent of NAN: 0.0\n",
            "Column - 'CO' amout of NAN: 0; percent of NAN: 0.0\n",
            "Column - 'PT08_S1' amout of NAN: 0; percent of NAN: 0.0\n",
            "Column - 'NMHC' amout of NAN: 0; percent of NAN: 0.0\n",
            "Column - 'C6H6' amout of NAN: 0; percent of NAN: 0.0\n",
            "Column - 'PT08_S2' amout of NAN: 0; percent of NAN: 0.0\n",
            "Column - 'NOx' amout of NAN: 0; percent of NAN: 0.0\n",
            "Column - 'PT08_S3' amout of NAN: 0; percent of NAN: 0.0\n",
            "Column - 'NO2' amout of NAN: 0; percent of NAN: 0.0\n",
            "Column - 'PT08_S4' amout of NAN: 0; percent of NAN: 0.0\n",
            "Column - 'PT08_S5' amout of NAN: 0; percent of NAN: 0.0\n",
            "Column - 'T' amout of NAN: 0; percent of NAN: 0.0\n",
            "Column - 'RH' amout of NAN: 0; percent of NAN: 0.0\n",
            "Column - 'AH' amout of NAN: 0; percent of NAN: 0.0\n"
          ]
        }
      ]
    },
    {
      "cell_type": "markdown",
      "source": [
        "As we can see features have no more NAN values."
      ],
      "metadata": {
        "id": "6Hg_0J9s71dC"
      }
    },
    {
      "cell_type": "markdown",
      "source": [
        "Let's check correlation:"
      ],
      "metadata": {
        "id": "EJdHcj-NEuGe"
      }
    },
    {
      "cell_type": "code",
      "source": [
        "plt.figure(figsize=(20,7))\n",
        "sns.heatmap(df.corr(), annot=True, annot_kws={'size':10}, cmap=plt.cm.viridis)\n",
        "plt.show()"
      ],
      "metadata": {
        "colab": {
          "base_uri": "https://localhost:8080/",
          "height": 433
        },
        "id": "ysLSOT4rWCS2",
        "outputId": "93ed46c7-38f7-4d51-a3f3-1a8504e688ed"
      },
      "execution_count": null,
      "outputs": [
        {
          "output_type": "display_data",
          "data": {
            "text/plain": [
              "<Figure size 1440x504 with 2 Axes>"
            ],
            "image/png": "[encoded data removed]"
          },
          "metadata": {
            "needs_background": "light"
          }
        }
      ]
    },
    {
      "cell_type": "markdown",
      "source": [
        "We can see the strong mutual correlation between features. Good idea to test those."
      ],
      "metadata": {
        "id": "P_IKEec2Zhcz"
      }
    },
    {
      "cell_type": "markdown",
      "source": [
        "Let's provide testing: $H_0$ - there is no correlation between features; $H_1$ - Correlation exists:"
      ],
      "metadata": {
        "id": "odtco4Gx-2Fp"
      }
    },
    {
      "cell_type": "code",
      "source": [
        "corr_test_pearson(df[numeric_cols])"
      ],
      "metadata": {
        "colab": {
          "base_uri": "https://localhost:8080/"
        },
        "id": "DKstn-1D7TSS",
        "outputId": "5870ee83-9385-42f7-866f-d853012cca6d"
      },
      "execution_count": null,
      "outputs": [
        {
          "output_type": "stream",
          "name": "stdout",
          "text": [
            "Test between 'CO' and 'PT08_S1' male: r-Pearson = 0.8900376831335922 and p-value = 0.0. Thereby \u001b[92m there is a statistical significance \u001b[00m.\n",
            "Test between 'CO' and 'NMHC' male: r-Pearson = 0.8907785514370875 and p-value = 0.0. Thereby \u001b[92m there is a statistical significance \u001b[00m.\n",
            "Test between 'CO' and 'C6H6' male: r-Pearson = 0.9341945915874581 and p-value = 0.0. Thereby \u001b[92m there is a statistical significance \u001b[00m.\n",
            "Test between 'CO' and 'PT08_S2' male: r-Pearson = 0.9178937826571717 and p-value = 0.0. Thereby \u001b[92m there is a statistical significance \u001b[00m.\n",
            "Test between 'CO' and 'NOx' male: r-Pearson = 0.8107620712573591 and p-value = 0.0. Thereby \u001b[92m there is a statistical significance \u001b[00m.\n",
            "Test between 'CO' and 'PT08_S3' male: r-Pearson = -0.7109125296897142 and p-value = 0.0. Thereby \u001b[92m there is a statistical significance \u001b[00m.\n",
            "Test between 'CO' and 'NO2' male: r-Pearson = 0.7125041096922365 and p-value = 0.0. Thereby \u001b[92m there is a statistical significance \u001b[00m.\n",
            "Test between 'CO' and 'PT08_S4' male: r-Pearson = 0.6179563846422328 and p-value = 0.0. Thereby \u001b[92m there is a statistical significance \u001b[00m.\n",
            "Test between 'CO' and 'PT08_S5' male: r-Pearson = 0.8646931047679898 and p-value = 0.0. Thereby \u001b[92m there is a statistical significance \u001b[00m.\n",
            "Test between 'CO' and 'T' male: r-Pearson = -0.006410119558701814 and p-value = 0.5352679454454481. Thereby \u001b[91m there is no a statistical significance \u001b[00m.\n",
            "Test between 'CO' and 'RH' male: r-Pearson = 0.0480094423763247 and p-value = 3.3828847479244777e-06. Thereby \u001b[92m there is a statistical significance \u001b[00m.\n",
            "Test between 'CO' and 'AH' male: r-Pearson = 0.01724214735850002 and p-value = 0.09536309612674558. Thereby \u001b[91m there is no a statistical significance \u001b[00m.\n",
            "Test between 'PT08_S1' and 'NMHC' male: r-Pearson = 0.7518842257003666 and p-value = 0.0. Thereby \u001b[92m there is a statistical significance \u001b[00m.\n",
            "Test between 'PT08_S1' and 'C6H6' male: r-Pearson = 0.884585083892196 and p-value = 0.0. Thereby \u001b[92m there is a statistical significance \u001b[00m.\n",
            "Test between 'PT08_S1' and 'PT08_S2' male: r-Pearson = 0.8938288203889326 and p-value = 0.0. Thereby \u001b[92m there is a statistical significance \u001b[00m.\n",
            "Test between 'PT08_S1' and 'NOx' male: r-Pearson = 0.7283635863943377 and p-value = 0.0. Thereby \u001b[92m there is a statistical significance \u001b[00m.\n",
            "Test between 'PT08_S1' and 'PT08_S3' male: r-Pearson = -0.7732078988322004 and p-value = 0.0. Thereby \u001b[92m there is a statistical significance \u001b[00m.\n",
            "Test between 'PT08_S1' and 'NO2' male: r-Pearson = 0.6701837527715481 and p-value = 0.0. Thereby \u001b[92m there is a statistical significance \u001b[00m.\n",
            "Test between 'PT08_S1' and 'PT08_S4' male: r-Pearson = 0.6673688573695606 and p-value = 0.0. Thereby \u001b[92m there is a statistical significance \u001b[00m.\n",
            "Test between 'PT08_S1' and 'PT08_S5' male: r-Pearson = 0.9012549934997175 and p-value = 0.0. Thereby \u001b[92m there is a statistical significance \u001b[00m.\n",
            "Test between 'PT08_S1' and 'T' male: r-Pearson = 0.020633698047729687 and p-value = 0.045947402318412926. Thereby \u001b[92m there is a statistical significance \u001b[00m.\n",
            "Test between 'PT08_S1' and 'RH' male: r-Pearson = 0.1287907216713934 and p-value = 6.700267961475418e-36. Thereby \u001b[92m there is a statistical significance \u001b[00m.\n",
            "Test between 'PT08_S1' and 'AH' male: r-Pearson = 0.11347795818202255 and p-value = 3.3815786202598666e-28. Thereby \u001b[92m there is a statistical significance \u001b[00m.\n",
            "Test between 'NMHC' and 'C6H6' male: r-Pearson = 0.9245431767565326 and p-value = 0.0. Thereby \u001b[92m there is a statistical significance \u001b[00m.\n",
            "Test between 'NMHC' and 'PT08_S2' male: r-Pearson = 0.886920420209607 and p-value = 0.0. Thereby \u001b[92m there is a statistical significance \u001b[00m.\n",
            "Test between 'NMHC' and 'NOx' male: r-Pearson = 0.6031887735625706 and p-value = 0.0. Thereby \u001b[92m there is a statistical significance \u001b[00m.\n",
            "Test between 'NMHC' and 'PT08_S3' male: r-Pearson = -0.7038554223516992 and p-value = 0.0. Thereby \u001b[92m there is a statistical significance \u001b[00m.\n",
            "Test between 'NMHC' and 'NO2' male: r-Pearson = 0.5381235763034357 and p-value = 0.0. Thereby \u001b[92m there is a statistical significance \u001b[00m.\n",
            "Test between 'NMHC' and 'PT08_S4' male: r-Pearson = 0.6928329811010615 and p-value = 0.0. Thereby \u001b[92m there is a statistical significance \u001b[00m.\n",
            "Test between 'NMHC' and 'PT08_S5' male: r-Pearson = 0.7376552245032514 and p-value = 0.0. Thereby \u001b[92m there is a statistical significance \u001b[00m.\n",
            "Test between 'NMHC' and 'T' male: r-Pearson = 0.18702297998488224 and p-value = 2.0744951681110024e-74. Thereby \u001b[92m there is a statistical significance \u001b[00m.\n",
            "Test between 'NMHC' and 'RH' male: r-Pearson = -0.07477668565827252 and p-value = 4.4067714897242167e-13. Thereby \u001b[92m there is a statistical significance \u001b[00m.\n",
            "Test between 'NMHC' and 'AH' male: r-Pearson = 0.16817580056663559 and p-value = 2.548424128294481e-60. Thereby \u001b[92m there is a statistical significance \u001b[00m.\n",
            "Test between 'C6H6' and 'PT08_S2' male: r-Pearson = 0.9819611478540586 and p-value = 0.0. Thereby \u001b[92m there is a statistical significance \u001b[00m.\n",
            "Test between 'C6H6' and 'NOx' male: r-Pearson = 0.7315741339311621 and p-value = 0.0. Thereby \u001b[92m there is a statistical significance \u001b[00m.\n",
            "Test between 'C6H6' and 'PT08_S3' male: r-Pearson = -0.7368937381664146 and p-value = 0.0. Thereby \u001b[92m there is a statistical significance \u001b[00m.\n",
            "Test between 'C6H6' and 'NO2' male: r-Pearson = 0.6374640351654809 and p-value = 0.0. Thereby \u001b[92m there is a statistical significance \u001b[00m.\n",
            "Test between 'C6H6' and 'PT08_S4' male: r-Pearson = 0.7549151895389996 and p-value = 0.0. Thereby \u001b[92m there is a statistical significance \u001b[00m.\n",
            "Test between 'C6H6' and 'PT08_S5' male: r-Pearson = 0.8660892096354775 and p-value = 0.0. Thereby \u001b[92m there is a statistical significance \u001b[00m.\n",
            "Test between 'C6H6' and 'T' male: r-Pearson = 0.17484046800650394 and p-value = 4.024606523790129e-65. Thereby \u001b[92m there is a statistical significance \u001b[00m.\n",
            "Test between 'C6H6' and 'RH' male: r-Pearson = -0.046693818083377615 and p-value = 6.224155004175337e-06. Thereby \u001b[92m there is a statistical significance \u001b[00m.\n",
            "Test between 'C6H6' and 'AH' male: r-Pearson = 0.15297991593810745 and p-value = 4.2060651409043454e-50. Thereby \u001b[92m there is a statistical significance \u001b[00m.\n",
            "Test between 'PT08_S2' and 'NOx' male: r-Pearson = 0.717774538401093 and p-value = 0.0. Thereby \u001b[92m there is a statistical significance \u001b[00m.\n",
            "Test between 'PT08_S2' and 'PT08_S3' male: r-Pearson = -0.7978747093150839 and p-value = 0.0. Thereby \u001b[92m there is a statistical significance \u001b[00m.\n",
            "Test between 'PT08_S2' and 'NO2' male: r-Pearson = 0.6729366869535663 and p-value = 0.0. Thereby \u001b[92m there is a statistical significance \u001b[00m.\n",
            "Test between 'PT08_S2' and 'PT08_S4' male: r-Pearson = 0.7660623677969137 and p-value = 0.0. Thereby \u001b[92m there is a statistical significance \u001b[00m.\n",
            "Test between 'PT08_S2' and 'PT08_S5' male: r-Pearson = 0.8809304335488739 and p-value = 0.0. Thereby \u001b[92m there is a statistical significance \u001b[00m.\n",
            "Test between 'PT08_S2' and 'T' male: r-Pearson = 0.21661051822208366 and p-value = 9.059497947663762e-100. Thereby \u001b[92m there is a statistical significance \u001b[00m.\n",
            "Test between 'PT08_S2' and 'RH' male: r-Pearson = -0.07664462013649086 and p-value = 1.1373234459091512e-13. Thereby \u001b[92m there is a statistical significance \u001b[00m.\n",
            "Test between 'PT08_S2' and 'AH' male: r-Pearson = 0.1703733725314282 and p-value = 6.994339506946568e-62. Thereby \u001b[92m there is a statistical significance \u001b[00m.\n",
            "Test between 'NOx' and 'PT08_S3' male: r-Pearson = -0.6656285609391316 and p-value = 0.0. Thereby \u001b[92m there is a statistical significance \u001b[00m.\n",
            "Test between 'NOx' and 'NO2' male: r-Pearson = 0.7762883101735575 and p-value = 0.0. Thereby \u001b[92m there is a statistical significance \u001b[00m.\n",
            "Test between 'NOx' and 'PT08_S4' male: r-Pearson = 0.23353669806127866 and p-value = 4.163340865046516e-116. Thereby \u001b[92m there is a statistical significance \u001b[00m.\n",
            "Test between 'NOx' and 'PT08_S5' male: r-Pearson = 0.8009337584610653 and p-value = 0.0. Thereby \u001b[92m there is a statistical significance \u001b[00m.\n",
            "Test between 'NOx' and 'T' male: r-Pearson = -0.28966309190892897 and p-value = 2.7002676644178543e-180. Thereby \u001b[92m there is a statistical significance \u001b[00m.\n",
            "Test between 'NOx' and 'RH' male: r-Pearson = 0.22282884814533915 and p-value = 1.2948826404548672e-105. Thereby \u001b[92m there is a statistical significance \u001b[00m.\n",
            "Test between 'NOx' and 'AH' male: r-Pearson = -0.16948976773512092 and p-value = 2.9865598473232435e-61. Thereby \u001b[92m there is a statistical significance \u001b[00m.\n",
            "Test between 'PT08_S3' and 'NO2' male: r-Pearson = -0.6731493479711057 and p-value = 0.0. Thereby \u001b[92m there is a statistical significance \u001b[00m.\n",
            "Test between 'PT08_S3' and 'PT08_S4' male: r-Pearson = -0.5256895077265072 and p-value = 0.0. Thereby \u001b[92m there is a statistical significance \u001b[00m.\n",
            "Test between 'PT08_S3' and 'PT08_S5' male: r-Pearson = -0.7982854587672517 and p-value = 0.0. Thereby \u001b[92m there is a statistical significance \u001b[00m.\n",
            "Test between 'PT08_S3' and 'T' male: r-Pearson = -0.12177154807111741 and p-value = 3.01892200466886e-32. Thereby \u001b[92m there is a statistical significance \u001b[00m.\n",
            "Test between 'PT08_S3' and 'RH' male: r-Pearson = -0.06605988844569993 and p-value = 1.5927959869048109e-10. Thereby \u001b[92m there is a statistical significance \u001b[00m.\n",
            "Test between 'PT08_S3' and 'AH' male: r-Pearson = -0.2118972785007415 and p-value = 1.848421467132284e-95. Thereby \u001b[92m there is a statistical significance \u001b[00m.\n",
            "Test between 'NO2' and 'PT08_S4' male: r-Pearson = 0.16483614024608229 and p-value = 5.4773936195384786e-58. Thereby \u001b[92m there is a statistical significance \u001b[00m.\n",
            "Test between 'NO2' and 'PT08_S5' male: r-Pearson = 0.7315261540330092 and p-value = 0.0. Thereby \u001b[92m there is a statistical significance \u001b[00m.\n",
            "Test between 'NO2' and 'T' male: r-Pearson = -0.20229835480311456 and p-value = 5.3152938971584506e-87. Thereby \u001b[92m there is a statistical significance \u001b[00m.\n",
            "Test between 'NO2' and 'RH' male: r-Pearson = -0.09944129457424336 and p-value = 5.328011306831778e-22. Thereby \u001b[92m there is a statistical significance \u001b[00m.\n",
            "Test between 'NO2' and 'AH' male: r-Pearson = -0.3604366137550453 and p-value = 4.57170111693021e-285. Thereby \u001b[92m there is a statistical significance \u001b[00m.\n",
            "Test between 'PT08_S4' and 'PT08_S5' male: r-Pearson = 0.5727038421386627 and p-value = 0.0. Thereby \u001b[92m there is a statistical significance \u001b[00m.\n",
            "Test between 'PT08_S4' and 'T' male: r-Pearson = 0.5595076583480746 and p-value = 0.0. Thereby \u001b[92m there is a statistical significance \u001b[00m.\n",
            "Test between 'PT08_S4' and 'RH' male: r-Pearson = -0.03595252184231233 and p-value = 0.0005044084078728882. Thereby \u001b[92m there is a statistical significance \u001b[00m.\n",
            "Test between 'PT08_S4' and 'AH' male: r-Pearson = 0.6291381748119722 and p-value = 0.0. Thereby \u001b[92m there is a statistical significance \u001b[00m.\n",
            "Test between 'PT08_S5' and 'T' male: r-Pearson = -0.05690680000551555 and p-value = 3.620820193489082e-08. Thereby \u001b[92m there is a statistical significance \u001b[00m.\n",
            "Test between 'PT08_S5' and 'RH' male: r-Pearson = 0.141171459446069 and p-value = 7.425987896911738e-43. Thereby \u001b[92m there is a statistical significance \u001b[00m.\n",
            "Test between 'PT08_S5' and 'AH' male: r-Pearson = 0.04751395659327373 and p-value = 4.2639556221102984e-06. Thereby \u001b[92m there is a statistical significance \u001b[00m.\n",
            "Test between 'T' and 'RH' male: r-Pearson = -0.5847296880130156 and p-value = 0.0. Thereby \u001b[92m there is a statistical significance \u001b[00m.\n",
            "Test between 'T' and 'AH' male: r-Pearson = 0.6611264403364826 and p-value = 0.0. Thereby \u001b[92m there is a statistical significance \u001b[00m.\n",
            "Test between 'RH' and 'AH' male: r-Pearson = 0.15579251635612368 and p-value = 6.4382227586494375e-52. Thereby \u001b[92m there is a statistical significance \u001b[00m.\n"
          ]
        }
      ]
    },
    {
      "cell_type": "markdown",
      "source": [
        "Between 'CO' and 'T' as well as 'CO' and 'AH' there is the correlation without the statistical significance. However the rest of other include our target value have the significance."
      ],
      "metadata": {
        "id": "pRDfqhzY9ci7"
      }
    },
    {
      "cell_type": "markdown",
      "source": [
        "Let's take a look at feature distribution:"
      ],
      "metadata": {
        "id": "9PEjtTBlQ9G8"
      }
    },
    {
      "cell_type": "code",
      "source": [
        "fig ,ax = plt.subplots(figsize=(20,10))\n",
        "df[numeric_cols].plot(kind=\"density\", ax=ax,\n",
        "                    style='-*', ms=0.6, cmap=plt.cm.Accent)\n",
        "plt.axvline(x=0,**{'marker':'^','color':'black'})\n",
        "ax.set_title(\"Density of the current dataset distribution\")\n",
        "plt.show()"
      ],
      "metadata": {
        "colab": {
          "base_uri": "https://localhost:8080/",
          "height": 607
        },
        "id": "2UBEZmvZCw6h",
        "outputId": "65149561-e6e6-4c00-f4c3-ff421834b377"
      },
      "execution_count": null,
      "outputs": [
        {
          "output_type": "display_data",
          "data": {
            "text/plain": [
              "<Figure size 1440x720 with 1 Axes>"
            ],
            "image/png": "[encoded data removed]"
          },
          "metadata": {
            "needs_background": "light"
          }
        }
      ]
    },
    {
      "cell_type": "markdown",
      "source": [
        "It doesn't look good. The better way is to normalize the data."
      ],
      "metadata": {
        "id": "taWsql58FB6g"
      }
    },
    {
      "cell_type": "code",
      "source": [
        "df_norm = pd.DataFrame(StandardScaler().fit_transform(df[numeric_cols]))\n",
        "df_norm.columns = numeric_cols\n",
        "\n",
        "fig ,ax = plt.subplots(figsize=(20,10))\n",
        "df_norm.plot(kind=\"density\", ax=ax,\n",
        "                    style='-*', ms=0.6, cmap=plt.cm.Accent)\n",
        "plt.axvline(x=0,**{'marker':'^','color':'black'})\n",
        "ax.set_title(\"Density of the normalized dataset distribution\")\n",
        "plt.show()"
      ],
      "metadata": {
        "colab": {
          "base_uri": "https://localhost:8080/",
          "height": 607
        },
        "id": "A8WT04QaDRZj",
        "outputId": "a6a07faf-43a5-4f51-87e2-0c0c55fea9c1"
      },
      "execution_count": null,
      "outputs": [
        {
          "output_type": "display_data",
          "data": {
            "text/plain": [
              "<Figure size 1440x720 with 1 Axes>"
            ],
            "image/png": "[encoded data removed]"
          },
          "metadata": {
            "needs_background": "light"
          }
        }
      ]
    },
    {
      "cell_type": "markdown",
      "source": [
        "Now the distribution looks much better, we tend to see mostly populations skewed to the left of their mean (centered at 0)."
      ],
      "metadata": {
        "id": "AjJGOm7nFOYF"
      }
    },
    {
      "cell_type": "code",
      "source": [
        "fig, axs = plt.subplots(1,2, figsize=(20,7), sharey=True)\n",
        "df_norm[[\"CO\", \"NMHC\", \"NOx\", \"NO2\", \"C6H6\"]].plot(kind=\"density\", ax=axs[0])\n",
        "axs[0].axvline(x=0, color='black', marker=\"|\" ,linestyle=\"--\")\n",
        "axs[0].set_title(r'Distributions: Concentration of gas')\n",
        "\n",
        "df_norm[[\"PT08_S1\", \"PT08_S2\", \"PT08_S3\", \"PT08_S4\", \"PT08_S5\"]].plot(kind=\"density\", ax=axs[1])\n",
        "axs[1].axvline(x=0, color='black', marker=\"|\" ,linestyle=\"--\")\n",
        "axs[1].set_title(r'Distributions: Sensor measurements of gas')\n",
        "plt.show()"
      ],
      "metadata": {
        "colab": {
          "base_uri": "https://localhost:8080/",
          "height": 444
        },
        "id": "XDq-yKi0FWfg",
        "outputId": "f522e6e2-f50d-4117-d123-cc1f1d4e0503"
      },
      "execution_count": null,
      "outputs": [
        {
          "output_type": "display_data",
          "data": {
            "text/plain": [
              "<Figure size 1440x504 with 2 Axes>"
            ],
            "image/png": "[encoded data removed]"
          },
          "metadata": {
            "needs_background": "light"
          }
        }
      ]
    },
    {
      "cell_type": "markdown",
      "source": [
        "The gas has much sharper peaks, while the sensors are designed to have a normal distribution."
      ],
      "metadata": {
        "id": "b4WUjHdEKlpG"
      }
    },
    {
      "cell_type": "markdown",
      "source": [
        "#Feature Selection"
      ],
      "metadata": {
        "id": "ZD9Hwpq8Rh4V"
      }
    },
    {
      "cell_type": "markdown",
      "source": [
        "Let's take a look at correlation of features against the target: "
      ],
      "metadata": {
        "id": "_cy_YHJSdb9z"
      }
    },
    {
      "cell_type": "code",
      "source": [
        "df.corr()[[\"C6H6\"]]"
      ],
      "metadata": {
        "colab": {
          "base_uri": "https://localhost:8080/",
          "height": 457
        },
        "id": "C8w26wtfHfTY",
        "outputId": "fe6dd618-bf90-47bd-e9ea-57a14d7c4234"
      },
      "execution_count": null,
      "outputs": [
        {
          "output_type": "execute_result",
          "data": {
            "text/plain": [
              "             C6H6\n",
              "CO       0.934195\n",
              "PT08_S1  0.884585\n",
              "NMHC     0.924543\n",
              "C6H6     1.000000\n",
              "PT08_S2  0.981961\n",
              "NOx      0.731574\n",
              "PT08_S3 -0.736894\n",
              "NO2      0.637464\n",
              "PT08_S4  0.754915\n",
              "PT08_S5  0.866089\n",
              "T        0.174840\n",
              "RH      -0.046694\n",
              "AH       0.152980"
            ],
            "text/html": [
              "\n",
              "  <div id=\"df-d29280b5-3375-4bd2-8be1-0452afa6176d\">\n",
              "    <div class=\"colab-df-container\">\n",
              "      <div>\n",
              "<style scoped>\n",
              "    .dataframe tbody tr th:only-of-type {\n",
              "        vertical-align: middle;\n",
              "    }\n",
              "\n",
              "    .dataframe tbody tr th {\n",
              "        vertical-align: top;\n",
              "    }\n",
              "\n",
              "    .dataframe thead th {\n",
              "        text-align: right;\n",
              "    }\n",
              "</style>\n",
              "<table border=\"1\" class=\"dataframe\">\n",
              "  <thead>\n",
              "    <tr style=\"text-align: right;\">\n",
              "      <th></th>\n",
              "      <th>C6H6</th>\n",
              "    </tr>\n",
              "  </thead>\n",
              "  <tbody>\n",
              "    <tr>\n",
              "      <th>CO</th>\n",
              "      <td>0.934195</td>\n",
              "    </tr>\n",
              "    <tr>\n",
              "      <th>PT08_S1</th>\n",
              "      <td>0.884585</td>\n",
              "    </tr>\n",
              "    <tr>\n",
              "      <th>NMHC</th>\n",
              "      <td>0.924543</td>\n",
              "    </tr>\n",
              "    <tr>\n",
              "      <th>C6H6</th>\n",
              "      <td>1.000000</td>\n",
              "    </tr>\n",
              "    <tr>\n",
              "      <th>PT08_S2</th>\n",
              "      <td>0.981961</td>\n",
              "    </tr>\n",
              "    <tr>\n",
              "      <th>NOx</th>\n",
              "      <td>0.731574</td>\n",
              "    </tr>\n",
              "    <tr>\n",
              "      <th>PT08_S3</th>\n",
              "      <td>-0.736894</td>\n",
              "    </tr>\n",
              "    <tr>\n",
              "      <th>NO2</th>\n",
              "      <td>0.637464</td>\n",
              "    </tr>\n",
              "    <tr>\n",
              "      <th>PT08_S4</th>\n",
              "      <td>0.754915</td>\n",
              "    </tr>\n",
              "    <tr>\n",
              "      <th>PT08_S5</th>\n",
              "      <td>0.866089</td>\n",
              "    </tr>\n",
              "    <tr>\n",
              "      <th>T</th>\n",
              "      <td>0.174840</td>\n",
              "    </tr>\n",
              "    <tr>\n",
              "      <th>RH</th>\n",
              "      <td>-0.046694</td>\n",
              "    </tr>\n",
              "    <tr>\n",
              "      <th>AH</th>\n",
              "      <td>0.152980</td>\n",
              "    </tr>\n",
              "  </tbody>\n",
              "</table>\n",
              "</div>\n",
              "      <button class=\"colab-df-convert\" onclick=\"convertToInteractive('df-d29280b5-3375-4bd2-8be1-0452afa6176d')\"\n",
              "              title=\"Convert this dataframe to an interactive table.\"\n",
              "              style=\"display:none;\">\n",
              "        \n",
              "  <svg xmlns=\"http://www.w3.org/2000/svg\" height=\"24px\"viewBox=\"0 0 24 24\"\n",
              "       width=\"24px\">\n",
              "    <path d=\"M0 0h24v24H0V0z\" fill=\"none\"/>\n",
              "    <path d=\"M18.56 5.44l.94 2.06.94-2.06 2.06-.94-2.06-.94-.94-2.06-.94 2.06-2.06.94zm-11 1L8.5 8.5l.94-2.06 2.06-.94-2.06-.94L8.5 2.5l-.94 2.06-2.06.94zm10 10l.94 2.06.94-2.06 2.06-.94-2.06-.94-.94-2.06-.94 2.06-2.06.94z\"/><path d=\"M17.41 7.96l-1.37-1.37c-.4-.4-.92-.59-1.43-.59-.52 0-1.04.2-1.43.59L10.3 9.45l-7.72 7.72c-.78.78-.78 2.05 0 2.83L4 21.41c.39.39.9.59 1.41.59.51 0 1.02-.2 1.41-.59l7.78-7.78 2.81-2.81c.8-.78.8-2.07 0-2.86zM5.41 20L4 18.59l7.72-7.72 1.47 1.35L5.41 20z\"/>\n",
              "  </svg>\n",
              "      </button>\n",
              "      \n",
              "  <style>\n",
              "    .colab-df-container {\n",
              "      display:flex;\n",
              "      flex-wrap:wrap;\n",
              "      gap: 12px;\n",
              "    }\n",
              "\n",
              "    .colab-df-convert {\n",
              "      background-color: #E8F0FE;\n",
              "      border: none;\n",
              "      border-radius: 50%;\n",
              "      cursor: pointer;\n",
              "      display: none;\n",
              "      fill: #1967D2;\n",
              "      height: 32px;\n",
              "      padding: 0 0 0 0;\n",
              "      width: 32px;\n",
              "    }\n",
              "\n",
              "    .colab-df-convert:hover {\n",
              "      background-color: #E2EBFA;\n",
              "      box-shadow: 0px 1px 2px rgba(60, 64, 67, 0.3), 0px 1px 3px 1px rgba(60, 64, 67, 0.15);\n",
              "      fill: #174EA6;\n",
              "    }\n",
              "\n",
              "    [theme=dark] .colab-df-convert {\n",
              "      background-color: #3B4455;\n",
              "      fill: #D2E3FC;\n",
              "    }\n",
              "\n",
              "    [theme=dark] .colab-df-convert:hover {\n",
              "      background-color: #434B5C;\n",
              "      box-shadow: 0px 1px 3px 1px rgba(0, 0, 0, 0.15);\n",
              "      filter: drop-shadow(0px 1px 2px rgba(0, 0, 0, 0.3));\n",
              "      fill: #FFFFFF;\n",
              "    }\n",
              "  </style>\n",
              "\n",
              "      <script>\n",
              "        const buttonEl =\n",
              "          document.querySelector('#df-d29280b5-3375-4bd2-8be1-0452afa6176d button.colab-df-convert');\n",
              "        buttonEl.style.display =\n",
              "          google.colab.kernel.accessAllowed ? 'block' : 'none';\n",
              "\n",
              "        async function convertToInteractive(key) {\n",
              "          const element = document.querySelector('#df-d29280b5-3375-4bd2-8be1-0452afa6176d');\n",
              "          const dataTable =\n",
              "            await google.colab.kernel.invokeFunction('convertToInteractive',\n",
              "                                                     [key], {});\n",
              "          if (!dataTable) return;\n",
              "\n",
              "          const docLinkHtml = 'Like what you see? Visit the ' +\n",
              "            '<a target=\"_blank\" href=https://colab.research.google.com/notebooks/data_table.ipynb>data table notebook</a>'\n",
              "            + ' to learn more about interactive tables.';\n",
              "          element.innerHTML = '';\n",
              "          dataTable['output_type'] = 'display_data';\n",
              "          await google.colab.output.renderOutput(dataTable, element);\n",
              "          const docLink = document.createElement('div');\n",
              "          docLink.innerHTML = docLinkHtml;\n",
              "          element.appendChild(docLink);\n",
              "        }\n",
              "      </script>\n",
              "    </div>\n",
              "  </div>\n",
              "  "
            ]
          },
          "metadata": {},
          "execution_count": 20
        }
      ]
    },
    {
      "cell_type": "markdown",
      "source": [
        "Based on corr table we can see that almost all features have strong r-value. However T, RH and AH features have rather week r-value thereby we could rid of those."
      ],
      "metadata": {
        "id": "oMfp3E8zd4UP"
      }
    },
    {
      "cell_type": "code",
      "source": [
        "print(sm.ols(formula=\"C6H6 ~ CO + PT08_S1 + NMHC + PT08_S2 + NOx + PT08_S3 + NO2 + PT08_S4 + T + RH + AH\", data=df).fit().summary())"
      ],
      "metadata": {
        "colab": {
          "base_uri": "https://localhost:8080/"
        },
        "id": "MGBWAEoPOdwv",
        "outputId": "b1b2d8fd-7513-498d-afd3-b2de35199eef"
      },
      "execution_count": null,
      "outputs": [
        {
          "output_type": "stream",
          "name": "stdout",
          "text": [
            "                            OLS Regression Results                            \n",
            "==============================================================================\n",
            "Dep. Variable:                   C6H6   R-squared:                       0.995\n",
            "Model:                            OLS   Adj. R-squared:                  0.995\n",
            "Method:                 Least Squares   F-statistic:                 1.810e+05\n",
            "Date:                Wed, 06 Apr 2022   Prob (F-statistic):               0.00\n",
            "Time:                        14:48:41   Log-Likelihood:                -6834.9\n",
            "No. Observations:                9357   AIC:                         1.369e+04\n",
            "Df Residuals:                    9345   BIC:                         1.378e+04\n",
            "Df Model:                          11                                         \n",
            "Covariance Type:            nonrobust                                         \n",
            "==============================================================================\n",
            "                 coef    std err          t      P>|t|      [0.025      0.975]\n",
            "------------------------------------------------------------------------------\n",
            "Intercept    -23.7128      0.120   -198.196      0.000     -23.947     -23.478\n",
            "CO            -1.6151      0.018    -87.499      0.000      -1.651      -1.579\n",
            "PT08_S1        0.0067   7.77e-05     86.109      0.000       0.007       0.007\n",
            "NMHC           0.0187      0.000    177.975      0.000       0.019       0.019\n",
            "PT08_S2        0.0160      0.000    132.424      0.000       0.016       0.016\n",
            "NOx            0.0096   8.28e-05    115.743      0.000       0.009       0.010\n",
            "PT08_S3        0.0057   5.02e-05    113.393      0.000       0.006       0.006\n",
            "NO2           -0.0004      0.000     -1.329      0.184      -0.001       0.000\n",
            "PT08_S4        0.0032   6.78e-05     46.602      0.000       0.003       0.003\n",
            "T             -0.0192      0.002     -8.512      0.000      -0.024      -0.015\n",
            "RH            -0.0143      0.001    -16.031      0.000      -0.016      -0.013\n",
            "AH            -0.3507      0.043     -8.064      0.000      -0.436      -0.265\n",
            "==============================================================================\n",
            "Omnibus:                     4822.695   Durbin-Watson:                   0.651\n",
            "Prob(Omnibus):                  0.000   Jarque-Bera (JB):          1345717.489\n",
            "Skew:                           1.275   Prob(JB):                         0.00\n",
            "Kurtosis:                      61.696   Cond. No.                     5.26e+04\n",
            "==============================================================================\n",
            "\n",
            "Warnings:\n",
            "[1] Standard Errors assume that the covariance matrix of the errors is correctly specified.\n",
            "[2] The condition number is large, 5.26e+04. This might indicate that there are\n",
            "strong multicollinearity or other numerical problems.\n"
          ]
        }
      ]
    },
    {
      "cell_type": "markdown",
      "source": [
        "Take a look at $R^2$: 0.995 it prety much excelente value, meanwhile F-value is a negligible number that means the model is significant. Let's perform the test without features: T, RH and AH."
      ],
      "metadata": {
        "id": "OkKFgN_jfK-5"
      }
    },
    {
      "cell_type": "code",
      "source": [
        "print(sm.ols(formula=\"C6H6 ~ CO + PT08_S1 + NMHC + PT08_S2 + NOx + PT08_S3 + NO2 + PT08_S4\", data=df).fit().summary())"
      ],
      "metadata": {
        "colab": {
          "base_uri": "https://localhost:8080/"
        },
        "id": "j95SDsBIhbEp",
        "outputId": "1e14d69b-cff0-4eb5-922f-ebaa82ff8040"
      },
      "execution_count": null,
      "outputs": [
        {
          "output_type": "stream",
          "name": "stdout",
          "text": [
            "                            OLS Regression Results                            \n",
            "==============================================================================\n",
            "Dep. Variable:                   C6H6   R-squared:                       0.995\n",
            "Model:                            OLS   Adj. R-squared:                  0.995\n",
            "Method:                 Least Squares   F-statistic:                 2.289e+05\n",
            "Date:                Wed, 06 Apr 2022   Prob (F-statistic):               0.00\n",
            "Time:                        14:48:42   Log-Likelihood:                -7226.5\n",
            "No. Observations:                9357   AIC:                         1.447e+04\n",
            "Df Residuals:                    9348   BIC:                         1.454e+04\n",
            "Df Model:                           8                                         \n",
            "Covariance Type:            nonrobust                                         \n",
            "==============================================================================\n",
            "                 coef    std err          t      P>|t|      [0.025      0.975]\n",
            "------------------------------------------------------------------------------\n",
            "Intercept    -25.5326      0.103   -247.273      0.000     -25.735     -25.330\n",
            "CO            -1.5557      0.019    -81.725      0.000      -1.593      -1.518\n",
            "PT08_S1        0.0066   7.61e-05     87.021      0.000       0.006       0.007\n",
            "NMHC           0.0186      0.000    172.059      0.000       0.018       0.019\n",
            "PT08_S2        0.0179      0.000    177.439      0.000       0.018       0.018\n",
            "NOx            0.0083      7e-05    118.245      0.000       0.008       0.008\n",
            "PT08_S3        0.0064   4.46e-05    142.705      0.000       0.006       0.006\n",
            "NO2            0.0024      0.000      9.369      0.000       0.002       0.003\n",
            "PT08_S4        0.0018   4.57e-05     39.653      0.000       0.002       0.002\n",
            "==============================================================================\n",
            "Omnibus:                     4947.729   Durbin-Watson:                   0.612\n",
            "Prob(Omnibus):                  0.000   Jarque-Bera (JB):           982005.142\n",
            "Skew:                           1.428   Prob(JB):                         0.00\n",
            "Kurtosis:                      53.106   Cond. No.                     4.37e+04\n",
            "==============================================================================\n",
            "\n",
            "Warnings:\n",
            "[1] Standard Errors assume that the covariance matrix of the errors is correctly specified.\n",
            "[2] The condition number is large, 4.37e+04. This might indicate that there are\n",
            "strong multicollinearity or other numerical problems.\n"
          ]
        }
      ]
    },
    {
      "cell_type": "markdown",
      "source": [
        "As we can notice $R^2$ hasn't changed that means the features mentioned above have no explanatory power."
      ],
      "metadata": {
        "id": "Hpf3ZI9Khn5E"
      }
    },
    {
      "cell_type": "markdown",
      "source": [
        "Let's try to select features with SelectPercentile class:"
      ],
      "metadata": {
        "id": "qD3-kPP5r98E"
      }
    },
    {
      "cell_type": "code",
      "source": [
        "X = df.drop(['time_stamp', 'C6H6'], axis=1)\n",
        "y = df['C6H6']"
      ],
      "metadata": {
        "id": "QmaEaTkwM1z0"
      },
      "execution_count": null,
      "outputs": []
    },
    {
      "cell_type": "code",
      "source": [
        "select = SelectPercentile(score_func=f_regression).fit(X, y)"
      ],
      "metadata": {
        "id": "Qjp5Uwz7x7wb"
      },
      "execution_count": null,
      "outputs": []
    },
    {
      "cell_type": "code",
      "source": [
        "for i, f in zip(select.get_support(), select.feature_names_in_):\n",
        "  print(f\"feature: {f} - {i}\") "
      ],
      "metadata": {
        "colab": {
          "base_uri": "https://localhost:8080/"
        },
        "id": "knQ2kwLhx-pJ",
        "outputId": "a8077d6a-9140-432a-f228-700af78012d8"
      },
      "execution_count": null,
      "outputs": [
        {
          "output_type": "stream",
          "name": "stdout",
          "text": [
            "feature: CO - True\n",
            "feature: PT08_S1 - False\n",
            "feature: NMHC - False\n",
            "feature: PT08_S2 - True\n",
            "feature: NOx - False\n",
            "feature: PT08_S3 - False\n",
            "feature: NO2 - False\n",
            "feature: PT08_S4 - False\n",
            "feature: PT08_S5 - False\n",
            "feature: T - False\n",
            "feature: RH - False\n",
            "feature: AH - False\n"
          ]
        }
      ]
    },
    {
      "cell_type": "markdown",
      "source": [
        "SelectPercentile class pointed only two features: SO and PT08_S2. Let's figure out $R^2$ value:"
      ],
      "metadata": {
        "id": "6bsey6WisWe6"
      }
    },
    {
      "cell_type": "code",
      "source": [
        "print(sm.ols(formula=\"C6H6 ~ CO + PT08_S2\", data=df).fit().summary())"
      ],
      "metadata": {
        "colab": {
          "base_uri": "https://localhost:8080/"
        },
        "id": "Prm7prGZ2jJ_",
        "outputId": "0591a3c6-db3b-4843-dffa-46c57e3a0d42"
      },
      "execution_count": null,
      "outputs": [
        {
          "output_type": "stream",
          "name": "stdout",
          "text": [
            "                            OLS Regression Results                            \n",
            "==============================================================================\n",
            "Dep. Variable:                   C6H6   R-squared:                       0.971\n",
            "Model:                            OLS   Adj. R-squared:                  0.971\n",
            "Method:                 Least Squares   F-statistic:                 1.572e+05\n",
            "Date:                Wed, 06 Apr 2022   Prob (F-statistic):               0.00\n",
            "Time:                        14:48:42   Log-Likelihood:                -15361.\n",
            "No. Observations:                9357   AIC:                         3.073e+04\n",
            "Df Residuals:                    9354   BIC:                         3.075e+04\n",
            "Df Model:                           2                                         \n",
            "Covariance Type:            nonrobust                                         \n",
            "==============================================================================\n",
            "                 coef    std err          t      P>|t|      [0.025      0.975]\n",
            "------------------------------------------------------------------------------\n",
            "Intercept    -12.8675      0.077   -168.060      0.000     -13.018     -12.717\n",
            "CO             1.0646      0.023     47.112      0.000       1.020       1.109\n",
            "PT08_S2        0.0221      0.000    178.461      0.000       0.022       0.022\n",
            "==============================================================================\n",
            "Omnibus:                     6109.637   Durbin-Watson:                   0.588\n",
            "Prob(Omnibus):                  0.000   Jarque-Bera (JB):           241992.359\n",
            "Skew:                           2.580   Prob(JB):                         0.00\n",
            "Kurtosis:                      27.374   Cond. No.                     5.95e+03\n",
            "==============================================================================\n",
            "\n",
            "Warnings:\n",
            "[1] Standard Errors assume that the covariance matrix of the errors is correctly specified.\n",
            "[2] The condition number is large, 5.95e+03. This might indicate that there are\n",
            "strong multicollinearity or other numerical problems.\n"
          ]
        }
      ]
    },
    {
      "cell_type": "markdown",
      "source": [
        "$R^2$ value has marked down thus ve cannot use those as is. What about principal component analysis:"
      ],
      "metadata": {
        "id": "3p0_HOmTsTsg"
      }
    },
    {
      "cell_type": "code",
      "source": [
        "X_reduced = X.drop([\"CO\", \"PT08_S2\"], axis=1)\n",
        "pca = PCA()\n",
        "pcomp = pca.fit_transform(X_reduced)\n",
        "explain_var_plot(pca)"
      ],
      "metadata": {
        "colab": {
          "base_uri": "https://localhost:8080/",
          "height": 581
        },
        "id": "gnRmyw-qplA5",
        "outputId": "a11e4a76-19a0-4c14-be9d-a5f98a15d62c"
      },
      "execution_count": null,
      "outputs": [
        {
          "output_type": "display_data",
          "data": {
            "text/plain": [
              "<Figure size 1080x576 with 1 Axes>"
            ],
            "image/png": "[encoded data removed]"
          },
          "metadata": {}
        }
      ]
    },
    {
      "cell_type": "markdown",
      "source": [
        "As we can see just one principal component explanes more than 60% of variance. However we could use the two components and cover more than 80%. Let's do so."
      ],
      "metadata": {
        "id": "lfWWgOG6t0Io"
      }
    },
    {
      "cell_type": "code",
      "source": [
        "pca = PCA(n_components=2)\n",
        "pcomp = pca.fit_transform(X_reduced)\n",
        "df_reduced = pd.DataFrame(data=pcomp, columns=[\"gas_sensor1\", \"gas_sensor2\"])\n",
        "df_reduced"
      ],
      "metadata": {
        "colab": {
          "base_uri": "https://localhost:8080/",
          "height": 424
        },
        "id": "aalzKJBpuIdL",
        "outputId": "13f0dbb2-177f-4ced-de5a-74ebf9f200e2"
      },
      "execution_count": null,
      "outputs": [
        {
          "output_type": "execute_result",
          "data": {
            "text/plain": [
              "      gas_sensor1  gas_sensor2\n",
              "0      223.139507  -165.477497\n",
              "1     -121.181053  -191.098986\n",
              "2       -3.146721  -131.556566\n",
              "3      111.401470   -91.116875\n",
              "4      -86.020008   -76.428763\n",
              "...           ...          ...\n",
              "9352   673.697431   439.542972\n",
              "9353   219.329119   322.531221\n",
              "9354    86.204850   255.661186\n",
              "9355  -313.436181   278.019668\n",
              "9356  -190.141023   239.615352\n",
              "\n",
              "[9357 rows x 2 columns]"
            ],
            "text/html": [
              "\n",
              "  <div id=\"df-e2717722-81e2-49f9-a9e0-679f07ff8c74\">\n",
              "    <div class=\"colab-df-container\">\n",
              "      <div>\n",
              "<style scoped>\n",
              "    .dataframe tbody tr th:only-of-type {\n",
              "        vertical-align: middle;\n",
              "    }\n",
              "\n",
              "    .dataframe tbody tr th {\n",
              "        vertical-align: top;\n",
              "    }\n",
              "\n",
              "    .dataframe thead th {\n",
              "        text-align: right;\n",
              "    }\n",
              "</style>\n",
              "<table border=\"1\" class=\"dataframe\">\n",
              "  <thead>\n",
              "    <tr style=\"text-align: right;\">\n",
              "      <th></th>\n",
              "      <th>gas_sensor1</th>\n",
              "      <th>gas_sensor2</th>\n",
              "    </tr>\n",
              "  </thead>\n",
              "  <tbody>\n",
              "    <tr>\n",
              "      <th>0</th>\n",
              "      <td>223.139507</td>\n",
              "      <td>-165.477497</td>\n",
              "    </tr>\n",
              "    <tr>\n",
              "      <th>1</th>\n",
              "      <td>-121.181053</td>\n",
              "      <td>-191.098986</td>\n",
              "    </tr>\n",
              "    <tr>\n",
              "      <th>2</th>\n",
              "      <td>-3.146721</td>\n",
              "      <td>-131.556566</td>\n",
              "    </tr>\n",
              "    <tr>\n",
              "      <th>3</th>\n",
              "      <td>111.401470</td>\n",
              "      <td>-91.116875</td>\n",
              "    </tr>\n",
              "    <tr>\n",
              "      <th>4</th>\n",
              "      <td>-86.020008</td>\n",
              "      <td>-76.428763</td>\n",
              "    </tr>\n",
              "    <tr>\n",
              "      <th>...</th>\n",
              "      <td>...</td>\n",
              "      <td>...</td>\n",
              "    </tr>\n",
              "    <tr>\n",
              "      <th>9352</th>\n",
              "      <td>673.697431</td>\n",
              "      <td>439.542972</td>\n",
              "    </tr>\n",
              "    <tr>\n",
              "      <th>9353</th>\n",
              "      <td>219.329119</td>\n",
              "      <td>322.531221</td>\n",
              "    </tr>\n",
              "    <tr>\n",
              "      <th>9354</th>\n",
              "      <td>86.204850</td>\n",
              "      <td>255.661186</td>\n",
              "    </tr>\n",
              "    <tr>\n",
              "      <th>9355</th>\n",
              "      <td>-313.436181</td>\n",
              "      <td>278.019668</td>\n",
              "    </tr>\n",
              "    <tr>\n",
              "      <th>9356</th>\n",
              "      <td>-190.141023</td>\n",
              "      <td>239.615352</td>\n",
              "    </tr>\n",
              "  </tbody>\n",
              "</table>\n",
              "<p>9357 rows × 2 columns</p>\n",
              "</div>\n",
              "      <button class=\"colab-df-convert\" onclick=\"convertToInteractive('df-e2717722-81e2-49f9-a9e0-679f07ff8c74')\"\n",
              "              title=\"Convert this dataframe to an interactive table.\"\n",
              "              style=\"display:none;\">\n",
              "        \n",
              "  <svg xmlns=\"http://www.w3.org/2000/svg\" height=\"24px\"viewBox=\"0 0 24 24\"\n",
              "       width=\"24px\">\n",
              "    <path d=\"M0 0h24v24H0V0z\" fill=\"none\"/>\n",
              "    <path d=\"M18.56 5.44l.94 2.06.94-2.06 2.06-.94-2.06-.94-.94-2.06-.94 2.06-2.06.94zm-11 1L8.5 8.5l.94-2.06 2.06-.94-2.06-.94L8.5 2.5l-.94 2.06-2.06.94zm10 10l.94 2.06.94-2.06 2.06-.94-2.06-.94-.94-2.06-.94 2.06-2.06.94z\"/><path d=\"M17.41 7.96l-1.37-1.37c-.4-.4-.92-.59-1.43-.59-.52 0-1.04.2-1.43.59L10.3 9.45l-7.72 7.72c-.78.78-.78 2.05 0 2.83L4 21.41c.39.39.9.59 1.41.59.51 0 1.02-.2 1.41-.59l7.78-7.78 2.81-2.81c.8-.78.8-2.07 0-2.86zM5.41 20L4 18.59l7.72-7.72 1.47 1.35L5.41 20z\"/>\n",
              "  </svg>\n",
              "      </button>\n",
              "      \n",
              "  <style>\n",
              "    .colab-df-container {\n",
              "      display:flex;\n",
              "      flex-wrap:wrap;\n",
              "      gap: 12px;\n",
              "    }\n",
              "\n",
              "    .colab-df-convert {\n",
              "      background-color: #E8F0FE;\n",
              "      border: none;\n",
              "      border-radius: 50%;\n",
              "      cursor: pointer;\n",
              "      display: none;\n",
              "      fill: #1967D2;\n",
              "      height: 32px;\n",
              "      padding: 0 0 0 0;\n",
              "      width: 32px;\n",
              "    }\n",
              "\n",
              "    .colab-df-convert:hover {\n",
              "      background-color: #E2EBFA;\n",
              "      box-shadow: 0px 1px 2px rgba(60, 64, 67, 0.3), 0px 1px 3px 1px rgba(60, 64, 67, 0.15);\n",
              "      fill: #174EA6;\n",
              "    }\n",
              "\n",
              "    [theme=dark] .colab-df-convert {\n",
              "      background-color: #3B4455;\n",
              "      fill: #D2E3FC;\n",
              "    }\n",
              "\n",
              "    [theme=dark] .colab-df-convert:hover {\n",
              "      background-color: #434B5C;\n",
              "      box-shadow: 0px 1px 3px 1px rgba(0, 0, 0, 0.15);\n",
              "      filter: drop-shadow(0px 1px 2px rgba(0, 0, 0, 0.3));\n",
              "      fill: #FFFFFF;\n",
              "    }\n",
              "  </style>\n",
              "\n",
              "      <script>\n",
              "        const buttonEl =\n",
              "          document.querySelector('#df-e2717722-81e2-49f9-a9e0-679f07ff8c74 button.colab-df-convert');\n",
              "        buttonEl.style.display =\n",
              "          google.colab.kernel.accessAllowed ? 'block' : 'none';\n",
              "\n",
              "        async function convertToInteractive(key) {\n",
              "          const element = document.querySelector('#df-e2717722-81e2-49f9-a9e0-679f07ff8c74');\n",
              "          const dataTable =\n",
              "            await google.colab.kernel.invokeFunction('convertToInteractive',\n",
              "                                                     [key], {});\n",
              "          if (!dataTable) return;\n",
              "\n",
              "          const docLinkHtml = 'Like what you see? Visit the ' +\n",
              "            '<a target=\"_blank\" href=https://colab.research.google.com/notebooks/data_table.ipynb>data table notebook</a>'\n",
              "            + ' to learn more about interactive tables.';\n",
              "          element.innerHTML = '';\n",
              "          dataTable['output_type'] = 'display_data';\n",
              "          await google.colab.output.renderOutput(dataTable, element);\n",
              "          const docLink = document.createElement('div');\n",
              "          docLink.innerHTML = docLinkHtml;\n",
              "          element.appendChild(docLink);\n",
              "        }\n",
              "      </script>\n",
              "    </div>\n",
              "  </div>\n",
              "  "
            ]
          },
          "metadata": {},
          "execution_count": 28
        }
      ]
    },
    {
      "cell_type": "markdown",
      "source": [
        "Let's build scatter plots and check how new features interconnect with the target:"
      ],
      "metadata": {
        "id": "P_EXtlBkw9FM"
      }
    },
    {
      "cell_type": "code",
      "source": [
        "fig, ax = plt.subplots(nrows=1, ncols=2, figsize=(20, 7))\n",
        "\n",
        "ax[0].scatter(df_reduced[\"gas_sensor1\"],y)\n",
        "ax[0].set(xlabel='gas_sensor1',ylabel='C6H6')\n",
        "ax[0].set_title(f\"Correlation gas_sensor1 and C6H6\")\n",
        "\n",
        "ax[1].scatter(df_reduced[\"gas_sensor2\"],y)\n",
        "ax[1].set(xlabel='gas_sensor2',ylabel='C6H6')\n",
        "ax[1].set_title(f\"Correlation gas_sensor2 and C6H6\")\n",
        "\n",
        "plt.show()"
      ],
      "metadata": {
        "colab": {
          "base_uri": "https://localhost:8080/",
          "height": 464
        },
        "id": "rYhdAmTjwHCc",
        "outputId": "f116ac69-7730-4311-ff81-17035c566235"
      },
      "execution_count": null,
      "outputs": [
        {
          "output_type": "display_data",
          "data": {
            "text/plain": [
              "<Figure size 1440x504 with 2 Axes>"
            ],
            "image/png": "[encoded data removed]"
          },
          "metadata": {}
        }
      ]
    },
    {
      "cell_type": "markdown",
      "source": [
        "The plots depict that gas_sensor1 has very good correlation with C6H6."
      ],
      "metadata": {
        "id": "swaxxi781aET"
      }
    },
    {
      "cell_type": "markdown",
      "source": [
        "In conclusion we have got three options of datasets: "
      ],
      "metadata": {
        "id": "GeJOm_-jeKv7"
      }
    },
    {
      "cell_type": "code",
      "source": [
        "# Source dataset for the baseline\n",
        "X.head()"
      ],
      "metadata": {
        "colab": {
          "base_uri": "https://localhost:8080/",
          "height": 206
        },
        "id": "Uq-EayneeGf-",
        "outputId": "01419aad-7e32-4faa-c9cf-47de38f337a4"
      },
      "execution_count": null,
      "outputs": [
        {
          "output_type": "execute_result",
          "data": {
            "text/plain": [
              "    CO  PT08_S1   NMHC  PT08_S2    NOx  PT08_S3    NO2  PT08_S4  PT08_S5  \\\n",
              "0  2.6   1360.0  150.0   1046.0  166.0   1056.0  113.0   1692.0   1268.0   \n",
              "1  2.0   1292.0  112.0    955.0  103.0   1174.0   92.0   1559.0    972.0   \n",
              "2  2.2   1402.0   88.0    939.0  131.0   1140.0  114.0   1555.0   1074.0   \n",
              "3  2.2   1376.0   80.0    948.0  172.0   1092.0  122.0   1584.0   1203.0   \n",
              "4  1.6   1272.0   51.0    836.0  131.0   1205.0  116.0   1490.0   1110.0   \n",
              "\n",
              "      T    RH      AH  \n",
              "0  13.6  48.9  0.7578  \n",
              "1  13.3  47.7  0.7255  \n",
              "2  11.9  54.0  0.7502  \n",
              "3  11.0  60.0  0.7867  \n",
              "4  11.2  59.6  0.7888  "
            ],
            "text/html": [
              "\n",
              "  <div id=\"df-f906db36-de61-44e0-9fb5-628610b3e1b1\">\n",
              "    <div class=\"colab-df-container\">\n",
              "      <div>\n",
              "<style scoped>\n",
              "    .dataframe tbody tr th:only-of-type {\n",
              "        vertical-align: middle;\n",
              "    }\n",
              "\n",
              "    .dataframe tbody tr th {\n",
              "        vertical-align: top;\n",
              "    }\n",
              "\n",
              "    .dataframe thead th {\n",
              "        text-align: right;\n",
              "    }\n",
              "</style>\n",
              "<table border=\"1\" class=\"dataframe\">\n",
              "  <thead>\n",
              "    <tr style=\"text-align: right;\">\n",
              "      <th></th>\n",
              "      <th>CO</th>\n",
              "      <th>PT08_S1</th>\n",
              "      <th>NMHC</th>\n",
              "      <th>PT08_S2</th>\n",
              "      <th>NOx</th>\n",
              "      <th>PT08_S3</th>\n",
              "      <th>NO2</th>\n",
              "      <th>PT08_S4</th>\n",
              "      <th>PT08_S5</th>\n",
              "      <th>T</th>\n",
              "      <th>RH</th>\n",
              "      <th>AH</th>\n",
              "    </tr>\n",
              "  </thead>\n",
              "  <tbody>\n",
              "    <tr>\n",
              "      <th>0</th>\n",
              "      <td>2.6</td>\n",
              "      <td>1360.0</td>\n",
              "      <td>150.0</td>\n",
              "      <td>1046.0</td>\n",
              "      <td>166.0</td>\n",
              "      <td>1056.0</td>\n",
              "      <td>113.0</td>\n",
              "      <td>1692.0</td>\n",
              "      <td>1268.0</td>\n",
              "      <td>13.6</td>\n",
              "      <td>48.9</td>\n",
              "      <td>0.7578</td>\n",
              "    </tr>\n",
              "    <tr>\n",
              "      <th>1</th>\n",
              "      <td>2.0</td>\n",
              "      <td>1292.0</td>\n",
              "      <td>112.0</td>\n",
              "      <td>955.0</td>\n",
              "      <td>103.0</td>\n",
              "      <td>1174.0</td>\n",
              "      <td>92.0</td>\n",
              "      <td>1559.0</td>\n",
              "      <td>972.0</td>\n",
              "      <td>13.3</td>\n",
              "      <td>47.7</td>\n",
              "      <td>0.7255</td>\n",
              "    </tr>\n",
              "    <tr>\n",
              "      <th>2</th>\n",
              "      <td>2.2</td>\n",
              "      <td>1402.0</td>\n",
              "      <td>88.0</td>\n",
              "      <td>939.0</td>\n",
              "      <td>131.0</td>\n",
              "      <td>1140.0</td>\n",
              "      <td>114.0</td>\n",
              "      <td>1555.0</td>\n",
              "      <td>1074.0</td>\n",
              "      <td>11.9</td>\n",
              "      <td>54.0</td>\n",
              "      <td>0.7502</td>\n",
              "    </tr>\n",
              "    <tr>\n",
              "      <th>3</th>\n",
              "      <td>2.2</td>\n",
              "      <td>1376.0</td>\n",
              "      <td>80.0</td>\n",
              "      <td>948.0</td>\n",
              "      <td>172.0</td>\n",
              "      <td>1092.0</td>\n",
              "      <td>122.0</td>\n",
              "      <td>1584.0</td>\n",
              "      <td>1203.0</td>\n",
              "      <td>11.0</td>\n",
              "      <td>60.0</td>\n",
              "      <td>0.7867</td>\n",
              "    </tr>\n",
              "    <tr>\n",
              "      <th>4</th>\n",
              "      <td>1.6</td>\n",
              "      <td>1272.0</td>\n",
              "      <td>51.0</td>\n",
              "      <td>836.0</td>\n",
              "      <td>131.0</td>\n",
              "      <td>1205.0</td>\n",
              "      <td>116.0</td>\n",
              "      <td>1490.0</td>\n",
              "      <td>1110.0</td>\n",
              "      <td>11.2</td>\n",
              "      <td>59.6</td>\n",
              "      <td>0.7888</td>\n",
              "    </tr>\n",
              "  </tbody>\n",
              "</table>\n",
              "</div>\n",
              "      <button class=\"colab-df-convert\" onclick=\"convertToInteractive('df-f906db36-de61-44e0-9fb5-628610b3e1b1')\"\n",
              "              title=\"Convert this dataframe to an interactive table.\"\n",
              "              style=\"display:none;\">\n",
              "        \n",
              "  <svg xmlns=\"http://www.w3.org/2000/svg\" height=\"24px\"viewBox=\"0 0 24 24\"\n",
              "       width=\"24px\">\n",
              "    <path d=\"M0 0h24v24H0V0z\" fill=\"none\"/>\n",
              "    <path d=\"M18.56 5.44l.94 2.06.94-2.06 2.06-.94-2.06-.94-.94-2.06-.94 2.06-2.06.94zm-11 1L8.5 8.5l.94-2.06 2.06-.94-2.06-.94L8.5 2.5l-.94 2.06-2.06.94zm10 10l.94 2.06.94-2.06 2.06-.94-2.06-.94-.94-2.06-.94 2.06-2.06.94z\"/><path d=\"M17.41 7.96l-1.37-1.37c-.4-.4-.92-.59-1.43-.59-.52 0-1.04.2-1.43.59L10.3 9.45l-7.72 7.72c-.78.78-.78 2.05 0 2.83L4 21.41c.39.39.9.59 1.41.59.51 0 1.02-.2 1.41-.59l7.78-7.78 2.81-2.81c.8-.78.8-2.07 0-2.86zM5.41 20L4 18.59l7.72-7.72 1.47 1.35L5.41 20z\"/>\n",
              "  </svg>\n",
              "      </button>\n",
              "      \n",
              "  <style>\n",
              "    .colab-df-container {\n",
              "      display:flex;\n",
              "      flex-wrap:wrap;\n",
              "      gap: 12px;\n",
              "    }\n",
              "\n",
              "    .colab-df-convert {\n",
              "      background-color: #E8F0FE;\n",
              "      border: none;\n",
              "      border-radius: 50%;\n",
              "      cursor: pointer;\n",
              "      display: none;\n",
              "      fill: #1967D2;\n",
              "      height: 32px;\n",
              "      padding: 0 0 0 0;\n",
              "      width: 32px;\n",
              "    }\n",
              "\n",
              "    .colab-df-convert:hover {\n",
              "      background-color: #E2EBFA;\n",
              "      box-shadow: 0px 1px 2px rgba(60, 64, 67, 0.3), 0px 1px 3px 1px rgba(60, 64, 67, 0.15);\n",
              "      fill: #174EA6;\n",
              "    }\n",
              "\n",
              "    [theme=dark] .colab-df-convert {\n",
              "      background-color: #3B4455;\n",
              "      fill: #D2E3FC;\n",
              "    }\n",
              "\n",
              "    [theme=dark] .colab-df-convert:hover {\n",
              "      background-color: #434B5C;\n",
              "      box-shadow: 0px 1px 3px 1px rgba(0, 0, 0, 0.15);\n",
              "      filter: drop-shadow(0px 1px 2px rgba(0, 0, 0, 0.3));\n",
              "      fill: #FFFFFF;\n",
              "    }\n",
              "  </style>\n",
              "\n",
              "      <script>\n",
              "        const buttonEl =\n",
              "          document.querySelector('#df-f906db36-de61-44e0-9fb5-628610b3e1b1 button.colab-df-convert');\n",
              "        buttonEl.style.display =\n",
              "          google.colab.kernel.accessAllowed ? 'block' : 'none';\n",
              "\n",
              "        async function convertToInteractive(key) {\n",
              "          const element = document.querySelector('#df-f906db36-de61-44e0-9fb5-628610b3e1b1');\n",
              "          const dataTable =\n",
              "            await google.colab.kernel.invokeFunction('convertToInteractive',\n",
              "                                                     [key], {});\n",
              "          if (!dataTable) return;\n",
              "\n",
              "          const docLinkHtml = 'Like what you see? Visit the ' +\n",
              "            '<a target=\"_blank\" href=https://colab.research.google.com/notebooks/data_table.ipynb>data table notebook</a>'\n",
              "            + ' to learn more about interactive tables.';\n",
              "          element.innerHTML = '';\n",
              "          dataTable['output_type'] = 'display_data';\n",
              "          await google.colab.output.renderOutput(dataTable, element);\n",
              "          const docLink = document.createElement('div');\n",
              "          docLink.innerHTML = docLinkHtml;\n",
              "          element.appendChild(docLink);\n",
              "        }\n",
              "      </script>\n",
              "    </div>\n",
              "  </div>\n",
              "  "
            ]
          },
          "metadata": {},
          "execution_count": 30
        }
      ]
    },
    {
      "cell_type": "code",
      "source": [
        "# Dataset has been reduced with PCA\n",
        "X_pca = pd.concat([df[[\"CO\", \"PT08_S2\"]], df_reduced], sort=False, axis=1)\n",
        "X_pca.head()"
      ],
      "metadata": {
        "colab": {
          "base_uri": "https://localhost:8080/",
          "height": 206
        },
        "id": "3Ru9PDqsxnSa",
        "outputId": "48d4009d-9df3-4ee2-ecb0-b8c2601c3f2b"
      },
      "execution_count": null,
      "outputs": [
        {
          "output_type": "execute_result",
          "data": {
            "text/plain": [
              "    CO  PT08_S2  gas_sensor1  gas_sensor2\n",
              "0  2.6   1046.0   223.139507  -165.477497\n",
              "1  2.0    955.0  -121.181053  -191.098986\n",
              "2  2.2    939.0    -3.146721  -131.556566\n",
              "3  2.2    948.0   111.401470   -91.116875\n",
              "4  1.6    836.0   -86.020008   -76.428763"
            ],
            "text/html": [
              "\n",
              "  <div id=\"df-eb8a84f3-0c04-401f-ab4d-e6d14dca1f26\">\n",
              "    <div class=\"colab-df-container\">\n",
              "      <div>\n",
              "<style scoped>\n",
              "    .dataframe tbody tr th:only-of-type {\n",
              "        vertical-align: middle;\n",
              "    }\n",
              "\n",
              "    .dataframe tbody tr th {\n",
              "        vertical-align: top;\n",
              "    }\n",
              "\n",
              "    .dataframe thead th {\n",
              "        text-align: right;\n",
              "    }\n",
              "</style>\n",
              "<table border=\"1\" class=\"dataframe\">\n",
              "  <thead>\n",
              "    <tr style=\"text-align: right;\">\n",
              "      <th></th>\n",
              "      <th>CO</th>\n",
              "      <th>PT08_S2</th>\n",
              "      <th>gas_sensor1</th>\n",
              "      <th>gas_sensor2</th>\n",
              "    </tr>\n",
              "  </thead>\n",
              "  <tbody>\n",
              "    <tr>\n",
              "      <th>0</th>\n",
              "      <td>2.6</td>\n",
              "      <td>1046.0</td>\n",
              "      <td>223.139507</td>\n",
              "      <td>-165.477497</td>\n",
              "    </tr>\n",
              "    <tr>\n",
              "      <th>1</th>\n",
              "      <td>2.0</td>\n",
              "      <td>955.0</td>\n",
              "      <td>-121.181053</td>\n",
              "      <td>-191.098986</td>\n",
              "    </tr>\n",
              "    <tr>\n",
              "      <th>2</th>\n",
              "      <td>2.2</td>\n",
              "      <td>939.0</td>\n",
              "      <td>-3.146721</td>\n",
              "      <td>-131.556566</td>\n",
              "    </tr>\n",
              "    <tr>\n",
              "      <th>3</th>\n",
              "      <td>2.2</td>\n",
              "      <td>948.0</td>\n",
              "      <td>111.401470</td>\n",
              "      <td>-91.116875</td>\n",
              "    </tr>\n",
              "    <tr>\n",
              "      <th>4</th>\n",
              "      <td>1.6</td>\n",
              "      <td>836.0</td>\n",
              "      <td>-86.020008</td>\n",
              "      <td>-76.428763</td>\n",
              "    </tr>\n",
              "  </tbody>\n",
              "</table>\n",
              "</div>\n",
              "      <button class=\"colab-df-convert\" onclick=\"convertToInteractive('df-eb8a84f3-0c04-401f-ab4d-e6d14dca1f26')\"\n",
              "              title=\"Convert this dataframe to an interactive table.\"\n",
              "              style=\"display:none;\">\n",
              "        \n",
              "  <svg xmlns=\"http://www.w3.org/2000/svg\" height=\"24px\"viewBox=\"0 0 24 24\"\n",
              "       width=\"24px\">\n",
              "    <path d=\"M0 0h24v24H0V0z\" fill=\"none\"/>\n",
              "    <path d=\"M18.56 5.44l.94 2.06.94-2.06 2.06-.94-2.06-.94-.94-2.06-.94 2.06-2.06.94zm-11 1L8.5 8.5l.94-2.06 2.06-.94-2.06-.94L8.5 2.5l-.94 2.06-2.06.94zm10 10l.94 2.06.94-2.06 2.06-.94-2.06-.94-.94-2.06-.94 2.06-2.06.94z\"/><path d=\"M17.41 7.96l-1.37-1.37c-.4-.4-.92-.59-1.43-.59-.52 0-1.04.2-1.43.59L10.3 9.45l-7.72 7.72c-.78.78-.78 2.05 0 2.83L4 21.41c.39.39.9.59 1.41.59.51 0 1.02-.2 1.41-.59l7.78-7.78 2.81-2.81c.8-.78.8-2.07 0-2.86zM5.41 20L4 18.59l7.72-7.72 1.47 1.35L5.41 20z\"/>\n",
              "  </svg>\n",
              "      </button>\n",
              "      \n",
              "  <style>\n",
              "    .colab-df-container {\n",
              "      display:flex;\n",
              "      flex-wrap:wrap;\n",
              "      gap: 12px;\n",
              "    }\n",
              "\n",
              "    .colab-df-convert {\n",
              "      background-color: #E8F0FE;\n",
              "      border: none;\n",
              "      border-radius: 50%;\n",
              "      cursor: pointer;\n",
              "      display: none;\n",
              "      fill: #1967D2;\n",
              "      height: 32px;\n",
              "      padding: 0 0 0 0;\n",
              "      width: 32px;\n",
              "    }\n",
              "\n",
              "    .colab-df-convert:hover {\n",
              "      background-color: #E2EBFA;\n",
              "      box-shadow: 0px 1px 2px rgba(60, 64, 67, 0.3), 0px 1px 3px 1px rgba(60, 64, 67, 0.15);\n",
              "      fill: #174EA6;\n",
              "    }\n",
              "\n",
              "    [theme=dark] .colab-df-convert {\n",
              "      background-color: #3B4455;\n",
              "      fill: #D2E3FC;\n",
              "    }\n",
              "\n",
              "    [theme=dark] .colab-df-convert:hover {\n",
              "      background-color: #434B5C;\n",
              "      box-shadow: 0px 1px 3px 1px rgba(0, 0, 0, 0.15);\n",
              "      filter: drop-shadow(0px 1px 2px rgba(0, 0, 0, 0.3));\n",
              "      fill: #FFFFFF;\n",
              "    }\n",
              "  </style>\n",
              "\n",
              "      <script>\n",
              "        const buttonEl =\n",
              "          document.querySelector('#df-eb8a84f3-0c04-401f-ab4d-e6d14dca1f26 button.colab-df-convert');\n",
              "        buttonEl.style.display =\n",
              "          google.colab.kernel.accessAllowed ? 'block' : 'none';\n",
              "\n",
              "        async function convertToInteractive(key) {\n",
              "          const element = document.querySelector('#df-eb8a84f3-0c04-401f-ab4d-e6d14dca1f26');\n",
              "          const dataTable =\n",
              "            await google.colab.kernel.invokeFunction('convertToInteractive',\n",
              "                                                     [key], {});\n",
              "          if (!dataTable) return;\n",
              "\n",
              "          const docLinkHtml = 'Like what you see? Visit the ' +\n",
              "            '<a target=\"_blank\" href=https://colab.research.google.com/notebooks/data_table.ipynb>data table notebook</a>'\n",
              "            + ' to learn more about interactive tables.';\n",
              "          element.innerHTML = '';\n",
              "          dataTable['output_type'] = 'display_data';\n",
              "          await google.colab.output.renderOutput(dataTable, element);\n",
              "          const docLink = document.createElement('div');\n",
              "          docLink.innerHTML = docLinkHtml;\n",
              "          element.appendChild(docLink);\n",
              "        }\n",
              "      </script>\n",
              "    </div>\n",
              "  </div>\n",
              "  "
            ]
          },
          "metadata": {},
          "execution_count": 31
        }
      ]
    },
    {
      "cell_type": "code",
      "source": [
        "# Shrinked dataset based on statistical test\n",
        "X_shrinked = X.drop([\"T\", \"RH\", \"AH\"], axis=1)\n",
        "X_shrinked.head()"
      ],
      "metadata": {
        "colab": {
          "base_uri": "https://localhost:8080/",
          "height": 206
        },
        "id": "aZG6hWQCdZ1G",
        "outputId": "4ff2effd-e22a-4ee7-9ad4-1a1bbf326a5b"
      },
      "execution_count": null,
      "outputs": [
        {
          "output_type": "execute_result",
          "data": {
            "text/plain": [
              "    CO  PT08_S1   NMHC  PT08_S2    NOx  PT08_S3    NO2  PT08_S4  PT08_S5\n",
              "0  2.6   1360.0  150.0   1046.0  166.0   1056.0  113.0   1692.0   1268.0\n",
              "1  2.0   1292.0  112.0    955.0  103.0   1174.0   92.0   1559.0    972.0\n",
              "2  2.2   1402.0   88.0    939.0  131.0   1140.0  114.0   1555.0   1074.0\n",
              "3  2.2   1376.0   80.0    948.0  172.0   1092.0  122.0   1584.0   1203.0\n",
              "4  1.6   1272.0   51.0    836.0  131.0   1205.0  116.0   1490.0   1110.0"
            ],
            "text/html": [
              "\n",
              "  <div id=\"df-c3225b7c-ed60-4c69-8701-cb1465bf2732\">\n",
              "    <div class=\"colab-df-container\">\n",
              "      <div>\n",
              "<style scoped>\n",
              "    .dataframe tbody tr th:only-of-type {\n",
              "        vertical-align: middle;\n",
              "    }\n",
              "\n",
              "    .dataframe tbody tr th {\n",
              "        vertical-align: top;\n",
              "    }\n",
              "\n",
              "    .dataframe thead th {\n",
              "        text-align: right;\n",
              "    }\n",
              "</style>\n",
              "<table border=\"1\" class=\"dataframe\">\n",
              "  <thead>\n",
              "    <tr style=\"text-align: right;\">\n",
              "      <th></th>\n",
              "      <th>CO</th>\n",
              "      <th>PT08_S1</th>\n",
              "      <th>NMHC</th>\n",
              "      <th>PT08_S2</th>\n",
              "      <th>NOx</th>\n",
              "      <th>PT08_S3</th>\n",
              "      <th>NO2</th>\n",
              "      <th>PT08_S4</th>\n",
              "      <th>PT08_S5</th>\n",
              "    </tr>\n",
              "  </thead>\n",
              "  <tbody>\n",
              "    <tr>\n",
              "      <th>0</th>\n",
              "      <td>2.6</td>\n",
              "      <td>1360.0</td>\n",
              "      <td>150.0</td>\n",
              "      <td>1046.0</td>\n",
              "      <td>166.0</td>\n",
              "      <td>1056.0</td>\n",
              "      <td>113.0</td>\n",
              "      <td>1692.0</td>\n",
              "      <td>1268.0</td>\n",
              "    </tr>\n",
              "    <tr>\n",
              "      <th>1</th>\n",
              "      <td>2.0</td>\n",
              "      <td>1292.0</td>\n",
              "      <td>112.0</td>\n",
              "      <td>955.0</td>\n",
              "      <td>103.0</td>\n",
              "      <td>1174.0</td>\n",
              "      <td>92.0</td>\n",
              "      <td>1559.0</td>\n",
              "      <td>972.0</td>\n",
              "    </tr>\n",
              "    <tr>\n",
              "      <th>2</th>\n",
              "      <td>2.2</td>\n",
              "      <td>1402.0</td>\n",
              "      <td>88.0</td>\n",
              "      <td>939.0</td>\n",
              "      <td>131.0</td>\n",
              "      <td>1140.0</td>\n",
              "      <td>114.0</td>\n",
              "      <td>1555.0</td>\n",
              "      <td>1074.0</td>\n",
              "    </tr>\n",
              "    <tr>\n",
              "      <th>3</th>\n",
              "      <td>2.2</td>\n",
              "      <td>1376.0</td>\n",
              "      <td>80.0</td>\n",
              "      <td>948.0</td>\n",
              "      <td>172.0</td>\n",
              "      <td>1092.0</td>\n",
              "      <td>122.0</td>\n",
              "      <td>1584.0</td>\n",
              "      <td>1203.0</td>\n",
              "    </tr>\n",
              "    <tr>\n",
              "      <th>4</th>\n",
              "      <td>1.6</td>\n",
              "      <td>1272.0</td>\n",
              "      <td>51.0</td>\n",
              "      <td>836.0</td>\n",
              "      <td>131.0</td>\n",
              "      <td>1205.0</td>\n",
              "      <td>116.0</td>\n",
              "      <td>1490.0</td>\n",
              "      <td>1110.0</td>\n",
              "    </tr>\n",
              "  </tbody>\n",
              "</table>\n",
              "</div>\n",
              "      <button class=\"colab-df-convert\" onclick=\"convertToInteractive('df-c3225b7c-ed60-4c69-8701-cb1465bf2732')\"\n",
              "              title=\"Convert this dataframe to an interactive table.\"\n",
              "              style=\"display:none;\">\n",
              "        \n",
              "  <svg xmlns=\"http://www.w3.org/2000/svg\" height=\"24px\"viewBox=\"0 0 24 24\"\n",
              "       width=\"24px\">\n",
              "    <path d=\"M0 0h24v24H0V0z\" fill=\"none\"/>\n",
              "    <path d=\"M18.56 5.44l.94 2.06.94-2.06 2.06-.94-2.06-.94-.94-2.06-.94 2.06-2.06.94zm-11 1L8.5 8.5l.94-2.06 2.06-.94-2.06-.94L8.5 2.5l-.94 2.06-2.06.94zm10 10l.94 2.06.94-2.06 2.06-.94-2.06-.94-.94-2.06-.94 2.06-2.06.94z\"/><path d=\"M17.41 7.96l-1.37-1.37c-.4-.4-.92-.59-1.43-.59-.52 0-1.04.2-1.43.59L10.3 9.45l-7.72 7.72c-.78.78-.78 2.05 0 2.83L4 21.41c.39.39.9.59 1.41.59.51 0 1.02-.2 1.41-.59l7.78-7.78 2.81-2.81c.8-.78.8-2.07 0-2.86zM5.41 20L4 18.59l7.72-7.72 1.47 1.35L5.41 20z\"/>\n",
              "  </svg>\n",
              "      </button>\n",
              "      \n",
              "  <style>\n",
              "    .colab-df-container {\n",
              "      display:flex;\n",
              "      flex-wrap:wrap;\n",
              "      gap: 12px;\n",
              "    }\n",
              "\n",
              "    .colab-df-convert {\n",
              "      background-color: #E8F0FE;\n",
              "      border: none;\n",
              "      border-radius: 50%;\n",
              "      cursor: pointer;\n",
              "      display: none;\n",
              "      fill: #1967D2;\n",
              "      height: 32px;\n",
              "      padding: 0 0 0 0;\n",
              "      width: 32px;\n",
              "    }\n",
              "\n",
              "    .colab-df-convert:hover {\n",
              "      background-color: #E2EBFA;\n",
              "      box-shadow: 0px 1px 2px rgba(60, 64, 67, 0.3), 0px 1px 3px 1px rgba(60, 64, 67, 0.15);\n",
              "      fill: #174EA6;\n",
              "    }\n",
              "\n",
              "    [theme=dark] .colab-df-convert {\n",
              "      background-color: #3B4455;\n",
              "      fill: #D2E3FC;\n",
              "    }\n",
              "\n",
              "    [theme=dark] .colab-df-convert:hover {\n",
              "      background-color: #434B5C;\n",
              "      box-shadow: 0px 1px 3px 1px rgba(0, 0, 0, 0.15);\n",
              "      filter: drop-shadow(0px 1px 2px rgba(0, 0, 0, 0.3));\n",
              "      fill: #FFFFFF;\n",
              "    }\n",
              "  </style>\n",
              "\n",
              "      <script>\n",
              "        const buttonEl =\n",
              "          document.querySelector('#df-c3225b7c-ed60-4c69-8701-cb1465bf2732 button.colab-df-convert');\n",
              "        buttonEl.style.display =\n",
              "          google.colab.kernel.accessAllowed ? 'block' : 'none';\n",
              "\n",
              "        async function convertToInteractive(key) {\n",
              "          const element = document.querySelector('#df-c3225b7c-ed60-4c69-8701-cb1465bf2732');\n",
              "          const dataTable =\n",
              "            await google.colab.kernel.invokeFunction('convertToInteractive',\n",
              "                                                     [key], {});\n",
              "          if (!dataTable) return;\n",
              "\n",
              "          const docLinkHtml = 'Like what you see? Visit the ' +\n",
              "            '<a target=\"_blank\" href=https://colab.research.google.com/notebooks/data_table.ipynb>data table notebook</a>'\n",
              "            + ' to learn more about interactive tables.';\n",
              "          element.innerHTML = '';\n",
              "          dataTable['output_type'] = 'display_data';\n",
              "          await google.colab.output.renderOutput(dataTable, element);\n",
              "          const docLink = document.createElement('div');\n",
              "          docLink.innerHTML = docLinkHtml;\n",
              "          element.appendChild(docLink);\n",
              "        }\n",
              "      </script>\n",
              "    </div>\n",
              "  </div>\n",
              "  "
            ]
          },
          "metadata": {},
          "execution_count": 32
        }
      ]
    },
    {
      "cell_type": "markdown",
      "source": [
        "#Linear models"
      ],
      "metadata": {
        "id": "8bxpclq7uVJy"
      }
    },
    {
      "cell_type": "markdown",
      "source": [
        "Let's establish a baseline with a simple Linear regression class:"
      ],
      "metadata": {
        "id": "sD5KtfWmaUdr"
      }
    },
    {
      "cell_type": "code",
      "source": [
        "X_train, X_test, y_train, y_test = train_test_split(X, y,test_size=0.3, random_state=4)\n",
        "baseline = LinearRegression()\n",
        "baseline.fit(X_train, y_train)\n",
        "y_pred = baseline.predict(X_test)\n",
        "print('MODEL : Baseline\\n', \n",
        "              'R^2 = %.3f\\n'%r2_score(y_test, y_pred),\n",
        "              'MSE = %.3f\\n'%mean_squared_error(y_test, y_pred) , \n",
        "              'MAE = %.3f\\n'%mean_absolute_error(y_test, y_pred))"
      ],
      "metadata": {
        "colab": {
          "base_uri": "https://localhost:8080/"
        },
        "id": "nwQHziatiYvg",
        "outputId": "95a45ff4-343b-4ab2-ef64-0f8eda65e9b1"
      },
      "execution_count": null,
      "outputs": [
        {
          "output_type": "stream",
          "name": "stdout",
          "text": [
            "MODEL : Baseline\n",
            " R^2 = 0.995\n",
            " MSE = 0.259\n",
            " MAE = 0.241\n",
            "\n"
          ]
        }
      ]
    },
    {
      "cell_type": "markdown",
      "source": [
        "___"
      ],
      "metadata": {
        "id": "1cfLe4so028U"
      }
    },
    {
      "cell_type": "markdown",
      "source": [
        "A pipeline with robust scaler class and linear regression:"
      ],
      "metadata": {
        "id": "wEb0ddRYvKFW"
      }
    },
    {
      "cell_type": "code",
      "source": [
        "rob_scal_line_reg_pipeline = make_pipeline(RobustScaler(), LinearRegression())"
      ],
      "metadata": {
        "id": "UQNObBu9u2Wb"
      },
      "execution_count": null,
      "outputs": []
    },
    {
      "cell_type": "markdown",
      "source": [
        "Let's check the pipline without parameter adjustment:"
      ],
      "metadata": {
        "id": "ZsBj_9IrgiOs"
      }
    },
    {
      "cell_type": "code",
      "source": [
        "model_pipeline(X_pca, y, rob_scal_line_reg_pipeline)"
      ],
      "metadata": {
        "colab": {
          "base_uri": "https://localhost:8080/"
        },
        "id": "PSL2cs1OhGKn",
        "outputId": "65c10fcc-0db4-49cc-d6d4-33958fe961af"
      },
      "execution_count": null,
      "outputs": [
        {
          "output_type": "stream",
          "name": "stdout",
          "text": [
            "MODEL: [('robustscaler', RobustScaler()), ('linearregression', LinearRegression())]\n",
            " R^2 = 0.973\n",
            " MSE = 1.483\n",
            " MAE = 0.866\n",
            "\n"
          ]
        }
      ]
    },
    {
      "cell_type": "markdown",
      "source": [
        "$R^2$ have decreased. It's a bed result."
      ],
      "metadata": {
        "id": "ms0tmRNopL7X"
      }
    },
    {
      "cell_type": "code",
      "source": [
        "model_pipeline(X_shrinked, y, rob_scal_line_reg_pipeline)"
      ],
      "metadata": {
        "colab": {
          "base_uri": "https://localhost:8080/"
        },
        "id": "0LBEa-d7hJuY",
        "outputId": "f4818055-1da4-4de3-c8f2-3360d09f44aa"
      },
      "execution_count": null,
      "outputs": [
        {
          "output_type": "stream",
          "name": "stdout",
          "text": [
            "MODEL: [('robustscaler', RobustScaler()), ('linearregression', LinearRegression())]\n",
            " R^2 = 0.995\n",
            " MSE = 0.287\n",
            " MAE = 0.279\n",
            "\n"
          ]
        }
      ]
    },
    {
      "cell_type": "markdown",
      "source": [
        "$R^2$ equals the baseline but RMSE and MAE have increased. Let's try to adjust the model's parameters:"
      ],
      "metadata": {
        "id": "bkcUTaO-1fVS"
      }
    },
    {
      "cell_type": "markdown",
      "source": [
        "Let's fulfill grid search and adjust some parameters:"
      ],
      "metadata": {
        "id": "_24oXBYH2Fpq"
      }
    },
    {
      "cell_type": "code",
      "source": [
        "# dictionary of hyperparameter for linear regression class\n",
        "\n",
        "lr_hparams = {'linearregression__fit_intercept':[True,False],'linearregression__positive':[True,False]}"
      ],
      "metadata": {
        "id": "o5-JGGIEff-x"
      },
      "execution_count": null,
      "outputs": []
    },
    {
      "cell_type": "code",
      "source": [
        "model_pipeline_grid(X, y, rob_scal_line_reg_pipeline, lr_hparams, 4)"
      ],
      "metadata": {
        "colab": {
          "base_uri": "https://localhost:8080/"
        },
        "id": "RGBWQPitmUGF",
        "outputId": "f5b0f429-9d88-49d4-ac4d-bd072f023bec"
      },
      "execution_count": null,
      "outputs": [
        {
          "output_type": "stream",
          "name": "stdout",
          "text": [
            "MODEL: [('robustscaler', RobustScaler()), ('linearregression', LinearRegression())]\n",
            " \tBest value of cross test = 0.995\n",
            " \tAccuracy on test data = 0.995\n",
            " \tBest parameters:  {'linearregression__fit_intercept': True, 'linearregression__positive': False}\n"
          ]
        }
      ]
    },
    {
      "cell_type": "markdown",
      "source": [
        "Base dataset has shown the same result."
      ],
      "metadata": {
        "id": "Ud1n07FSplP9"
      }
    },
    {
      "cell_type": "code",
      "source": [
        "model_pipeline_grid(X_pca, y, rob_scal_line_reg_pipeline, lr_hparams, 4)"
      ],
      "metadata": {
        "colab": {
          "base_uri": "https://localhost:8080/"
        },
        "id": "gxIi9887mU9u",
        "outputId": "ea355065-fb7b-4706-949f-e4d0efbaf9cd"
      },
      "execution_count": null,
      "outputs": [
        {
          "output_type": "stream",
          "name": "stdout",
          "text": [
            "MODEL: [('robustscaler', RobustScaler()), ('linearregression', LinearRegression())]\n",
            " \tBest value of cross test = 0.972\n",
            " \tAccuracy on test data = 0.973\n",
            " \tBest parameters:  {'linearregression__fit_intercept': True, 'linearregression__positive': False}\n"
          ]
        }
      ]
    },
    {
      "cell_type": "markdown",
      "source": [
        "PCA dataset accuracy is lower the baseline."
      ],
      "metadata": {
        "id": "oaIWN9dLptd1"
      }
    },
    {
      "cell_type": "code",
      "source": [
        "model_pipeline_grid(X_shrinked, y, rob_scal_line_reg_pipeline, lr_hparams, 4)"
      ],
      "metadata": {
        "colab": {
          "base_uri": "https://localhost:8080/"
        },
        "id": "31u4nCKmoYa8",
        "outputId": "979a3bb7-1380-4374-d3b4-aa4b01e3864d"
      },
      "execution_count": null,
      "outputs": [
        {
          "output_type": "stream",
          "name": "stdout",
          "text": [
            "MODEL: [('robustscaler', RobustScaler()), ('linearregression', LinearRegression())]\n",
            " \tBest value of cross test = 0.995\n",
            " \tAccuracy on test data = 0.995\n",
            " \tBest parameters:  {'linearregression__fit_intercept': True, 'linearregression__positive': False}\n"
          ]
        }
      ]
    },
    {
      "cell_type": "markdown",
      "source": [
        "Shrinked dataset accuracy equals the baseline."
      ],
      "metadata": {
        "id": "KWR6UyB8pGwh"
      }
    },
    {
      "cell_type": "markdown",
      "source": [
        "It would be good idea to try **linear model with l1, l2 regularization**:"
      ],
      "metadata": {
        "id": "vyhVC34Oq-Z-"
      }
    },
    {
      "cell_type": "code",
      "source": [
        "# Pipeline with a ridge class\n",
        "rob_scal_ridge_pipe = make_pipeline(RobustScaler(), Ridge())\n",
        "\n",
        "# Pipeline with a lasso class\n",
        "rob_scal_lasso_pipe = make_pipeline(RobustScaler(), Lasso())\n",
        "\n",
        "# Pipeline with a elasticnet class\n",
        "rob_scal_elnet_pipe = make_pipeline(RobustScaler(), ElasticNet())"
      ],
      "metadata": {
        "id": "1X8ppELRobi1"
      },
      "execution_count": null,
      "outputs": []
    },
    {
      "cell_type": "markdown",
      "source": [
        "Let's check ***Ridge algorithm***:"
      ],
      "metadata": {
        "id": "ASnG3SKQKDK_"
      }
    },
    {
      "cell_type": "code",
      "source": [
        "model_pipeline(X, y, rob_scal_ridge_pipe)"
      ],
      "metadata": {
        "colab": {
          "base_uri": "https://localhost:8080/"
        },
        "id": "sPhiYmWRre3k",
        "outputId": "cbc5a7b6-4e25-40bd-bc91-a126649b8e25"
      },
      "execution_count": null,
      "outputs": [
        {
          "output_type": "stream",
          "name": "stdout",
          "text": [
            "MODEL: [('robustscaler', RobustScaler()), ('ridge', Ridge())]\n",
            " R^2 = 0.995\n",
            " MSE = 0.258\n",
            " MAE = 0.241\n",
            "\n"
          ]
        }
      ]
    },
    {
      "cell_type": "markdown",
      "source": [
        "It fits the baseline."
      ],
      "metadata": {
        "id": "YJJnVcU0FGnd"
      }
    },
    {
      "cell_type": "code",
      "source": [
        "model_pipeline(X_pca, y, rob_scal_ridge_pipe)"
      ],
      "metadata": {
        "colab": {
          "base_uri": "https://localhost:8080/"
        },
        "id": "Nsv4GG38u24k",
        "outputId": "1d6ecb4a-1351-414c-df68-40ce2d78b34b"
      },
      "execution_count": null,
      "outputs": [
        {
          "output_type": "stream",
          "name": "stdout",
          "text": [
            "MODEL: [('robustscaler', RobustScaler()), ('ridge', Ridge())]\n",
            " R^2 = 0.973\n",
            " MSE = 1.483\n",
            " MAE = 0.866\n",
            "\n"
          ]
        }
      ]
    },
    {
      "cell_type": "markdown",
      "source": [
        "It doesn't fit the baseline."
      ],
      "metadata": {
        "id": "zidFTUDSFOyB"
      }
    },
    {
      "cell_type": "code",
      "source": [
        "model_pipeline(X_shrinked, y, rob_scal_ridge_pipe)"
      ],
      "metadata": {
        "id": "nQR6MN3nvO51",
        "colab": {
          "base_uri": "https://localhost:8080/"
        },
        "outputId": "cc7cdd4a-c5b7-4e03-cca1-a25d350a3a50"
      },
      "execution_count": null,
      "outputs": [
        {
          "output_type": "stream",
          "name": "stdout",
          "text": [
            "MODEL: [('robustscaler', RobustScaler()), ('ridge', Ridge())]\n",
            " R^2 = 0.995\n",
            " MSE = 0.287\n",
            " MAE = 0.279\n",
            "\n"
          ]
        }
      ]
    },
    {
      "cell_type": "markdown",
      "source": [
        "It fits the baseline."
      ],
      "metadata": {
        "id": "4UzfMjsGFS0A"
      }
    },
    {
      "cell_type": "markdown",
      "source": [
        "Ridge test with default parameters has shown the same result as the linear regression class. What about tuning ridge hyperparameters"
      ],
      "metadata": {
        "id": "GWUjJaHXwykH"
      }
    },
    {
      "cell_type": "code",
      "source": [
        "#ridge_hparams = {'ridge__alpha':[np.arange(0, 1, 0.01)], 'ridge__solver':[\"auto\", \"svd\", \"cholesky\", \"lsqr\", \"sparse_cg\", \"sag\", \"saga\", \"lbfgs\"]}\n",
        "ridge_hparams = {'ridge__alpha':[0.  , 0.01, 0.02, 0.03, 0.04, 0.05, 0.06, 0.07, 0.08, 0.09, 0.1 ,\n",
        "       0.11, 0.12, 0.13, 0.14, 0.15, 0.16, 0.17, 0.18, 0.19, 0.2 , 0.21,\n",
        "       0.22, 0.23, 0.24, 0.25, 0.26, 0.27, 0.28, 0.29, 0.3 , 0.31, 0.32,\n",
        "       0.33, 0.34, 0.35, 0.36, 0.37, 0.38, 0.39, 0.4 , 0.41, 0.42, 0.43,\n",
        "       0.44, 0.45, 0.46, 0.47, 0.48, 0.49, 0.5 , 0.51, 0.52, 0.53, 0.54,\n",
        "       0.55, 0.56, 0.57, 0.58, 0.59, 0.6 , 0.61, 0.62, 0.63, 0.64, 0.65,\n",
        "       0.66, 0.67, 0.68, 0.69, 0.7 , 0.71, 0.72, 0.73, 0.74, 0.75, 0.76,\n",
        "       0.77, 0.78, 0.79, 0.8 , 0.81, 0.82, 0.83, 0.84, 0.85, 0.86, 0.87,\n",
        "       0.88, 0.89, 0.9 , 0.91, 0.92, 0.93, 0.94, 0.95, 0.96, 0.97, 0.98,\n",
        "       0.99]}"
      ],
      "metadata": {
        "id": "rgyoKf4yxx0z"
      },
      "execution_count": null,
      "outputs": []
    },
    {
      "cell_type": "code",
      "source": [
        "model_pipeline_grid(X, y, rob_scal_ridge_pipe, ridge_hparams, cv=10)"
      ],
      "metadata": {
        "id": "CP12LUrCylSP",
        "colab": {
          "base_uri": "https://localhost:8080/"
        },
        "outputId": "6115dee1-479e-41b8-fb74-2be33b05aa90"
      },
      "execution_count": null,
      "outputs": [
        {
          "output_type": "stream",
          "name": "stdout",
          "text": [
            "MODEL: [('robustscaler', RobustScaler()), ('linearregression', LinearRegression())]\n",
            " \tBest value of cross test = 0.995\n",
            " \tAccuracy on test data = 0.995\n",
            " \tBest parameters:  {'ridge__alpha': 0.0}\n"
          ]
        }
      ]
    },
    {
      "cell_type": "code",
      "source": [
        "model_pipeline_grid(X_pca, y, rob_scal_ridge_pipe, ridge_hparams, cv=10)"
      ],
      "metadata": {
        "id": "3ty0Yf567sZm",
        "colab": {
          "base_uri": "https://localhost:8080/"
        },
        "outputId": "896f3c47-638d-497b-9bb9-fe5c734588af"
      },
      "execution_count": null,
      "outputs": [
        {
          "output_type": "stream",
          "name": "stdout",
          "text": [
            "MODEL: [('robustscaler', RobustScaler()), ('linearregression', LinearRegression())]\n",
            " \tBest value of cross test = 0.972\n",
            " \tAccuracy on test data = 0.973\n",
            " \tBest parameters:  {'ridge__alpha': 0.25}\n"
          ]
        }
      ]
    },
    {
      "cell_type": "code",
      "source": [
        "model_pipeline_grid(X_shrinked, y, rob_scal_ridge_pipe, ridge_hparams, cv=10)"
      ],
      "metadata": {
        "id": "fXLi3dGA7xde",
        "colab": {
          "base_uri": "https://localhost:8080/"
        },
        "outputId": "39a09a56-1ce2-4a3e-a708-ff7a56d2a387"
      },
      "execution_count": null,
      "outputs": [
        {
          "output_type": "stream",
          "name": "stdout",
          "text": [
            "MODEL: [('robustscaler', RobustScaler()), ('linearregression', LinearRegression())]\n",
            " \tBest value of cross test = 0.995\n",
            " \tAccuracy on test data = 0.995\n",
            " \tBest parameters:  {'ridge__alpha': 0.0}\n"
          ]
        }
      ]
    },
    {
      "cell_type": "markdown",
      "source": [
        "In this case best result has been provided by baseline dataset and shrinked dataset."
      ],
      "metadata": {
        "id": "GalDg-m8Eprm"
      }
    },
    {
      "cell_type": "markdown",
      "source": [
        "Now let's check ***Lasso algorithm***:"
      ],
      "metadata": {
        "id": "oosqMJPwGUMY"
      }
    },
    {
      "cell_type": "code",
      "source": [
        "model_pipeline(X, y, rob_scal_lasso_pipe)"
      ],
      "metadata": {
        "colab": {
          "base_uri": "https://localhost:8080/"
        },
        "id": "Kh2j1bMh_GW4",
        "outputId": "c5486022-64b4-454a-f3e7-38d0661da015"
      },
      "execution_count": null,
      "outputs": [
        {
          "output_type": "stream",
          "name": "stdout",
          "text": [
            "MODEL: [('robustscaler', RobustScaler()), ('lasso', Lasso())]\n",
            " R^2 = 0.940\n",
            " MSE = 3.346\n",
            " MAE = 1.349\n",
            "\n"
          ]
        }
      ]
    },
    {
      "cell_type": "code",
      "source": [
        "model_pipeline(X_pca, y, rob_scal_lasso_pipe)"
      ],
      "metadata": {
        "colab": {
          "base_uri": "https://localhost:8080/"
        },
        "id": "qg8AYLjcGhoj",
        "outputId": "9c86844f-0009-4fea-823f-3614c250e8f1"
      },
      "execution_count": null,
      "outputs": [
        {
          "output_type": "stream",
          "name": "stdout",
          "text": [
            "MODEL: [('robustscaler', RobustScaler()), ('lasso', Lasso())]\n",
            " R^2 = 0.932\n",
            " MSE = 3.761\n",
            " MAE = 1.245\n",
            "\n"
          ]
        }
      ]
    },
    {
      "cell_type": "code",
      "source": [
        "model_pipeline(X_shrinked, y, rob_scal_lasso_pipe)"
      ],
      "metadata": {
        "colab": {
          "base_uri": "https://localhost:8080/"
        },
        "id": "ZhiXtd2bGo90",
        "outputId": "f47a331f-6e15-4691-f8a3-b656d8f6f8cd"
      },
      "execution_count": null,
      "outputs": [
        {
          "output_type": "stream",
          "name": "stdout",
          "text": [
            "MODEL: [('robustscaler', RobustScaler()), ('lasso', Lasso())]\n",
            " R^2 = 0.940\n",
            " MSE = 3.346\n",
            " MAE = 1.349\n",
            "\n"
          ]
        }
      ]
    },
    {
      "cell_type": "markdown",
      "source": [
        "All test are lower the baseline. Default lasso doesn't suit our case. Let's try hyperparameters tuning. "
      ],
      "metadata": {
        "id": "zf7GVaozG1yt"
      }
    },
    {
      "cell_type": "code",
      "source": [
        "lasso_hparams = {'lasso__alpha':[0.01, 0.02, 0.03, 0.04, 0.05, 0.06, 0.07, 0.08, 0.09, 0.1 ,\n",
        "       0.11, 0.12, 0.13, 0.14, 0.15, 0.16, 0.17, 0.18, 0.19, 0.2 , 0.21,\n",
        "       0.22, 0.23, 0.24, 0.25, 0.26, 0.27, 0.28, 0.29, 0.3 , 0.31, 0.32,\n",
        "       0.33, 0.34, 0.35, 0.36, 0.37, 0.38, 0.39, 0.4 , 0.41, 0.42, 0.43,\n",
        "       0.44, 0.45, 0.46, 0.47, 0.48, 0.49, 0.5 , 0.51, 0.52, 0.53, 0.54,\n",
        "       0.55, 0.56, 0.57, 0.58, 0.59, 0.6 , 0.61, 0.62, 0.63, 0.64, 0.65,\n",
        "       0.66, 0.67, 0.68, 0.69, 0.7 , 0.71, 0.72, 0.73, 0.74, 0.75, 0.76,\n",
        "       0.77, 0.78, 0.79, 0.8 , 0.81, 0.82, 0.83, 0.84, 0.85, 0.86, 0.87,\n",
        "       0.88, 0.89, 0.9 , 0.91, 0.92, 0.93, 0.94, 0.95, 0.96, 0.97, 0.98,\n",
        "       0.99]}"
      ],
      "metadata": {
        "id": "XP6yAgdoH6_a"
      },
      "execution_count": null,
      "outputs": []
    },
    {
      "cell_type": "code",
      "source": [
        "model_pipeline_grid(X, y, rob_scal_lasso_pipe, lasso_hparams, cv=10)"
      ],
      "metadata": {
        "colab": {
          "base_uri": "https://localhost:8080/"
        },
        "id": "j5YTl5GMHkdm",
        "outputId": "5b4ff45e-b28c-4f31-dc9e-eb3ee86b58c6"
      },
      "execution_count": null,
      "outputs": [
        {
          "output_type": "stream",
          "name": "stdout",
          "text": [
            "MODEL: [('robustscaler', RobustScaler()), ('linearregression', LinearRegression())]\n",
            " \tBest value of cross test = 0.995\n",
            " \tAccuracy on test data = 0.995\n",
            " \tBest parameters:  {'lasso__alpha': 0.01}\n"
          ]
        }
      ]
    },
    {
      "cell_type": "code",
      "source": [
        "model_pipeline_grid(X_pca, y, rob_scal_lasso_pipe, lasso_hparams, cv=10)"
      ],
      "metadata": {
        "colab": {
          "base_uri": "https://localhost:8080/"
        },
        "id": "9ZlA1TgFIUXG",
        "outputId": "062448b5-dc89-4897-8bb3-d4427daa69e9"
      },
      "execution_count": null,
      "outputs": [
        {
          "output_type": "stream",
          "name": "stdout",
          "text": [
            "MODEL: [('robustscaler', RobustScaler()), ('linearregression', LinearRegression())]\n",
            " \tBest value of cross test = 0.972\n",
            " \tAccuracy on test data = 0.973\n",
            " \tBest parameters:  {'lasso__alpha': 0.01}\n"
          ]
        }
      ]
    },
    {
      "cell_type": "code",
      "source": [
        "model_pipeline_grid(X_shrinked, y, rob_scal_lasso_pipe, lasso_hparams, cv=10)"
      ],
      "metadata": {
        "colab": {
          "base_uri": "https://localhost:8080/"
        },
        "id": "LhJB9SPxIpAO",
        "outputId": "67b752cd-95ce-458e-cd81-d87faec72338"
      },
      "execution_count": null,
      "outputs": [
        {
          "output_type": "stream",
          "name": "stdout",
          "text": [
            "MODEL: [('robustscaler', RobustScaler()), ('linearregression', LinearRegression())]\n",
            " \tBest value of cross test = 0.995\n",
            " \tAccuracy on test data = 0.994\n",
            " \tBest parameters:  {'lasso__alpha': 0.01}\n"
          ]
        }
      ]
    },
    {
      "cell_type": "markdown",
      "source": [
        "As we can see tuned lasso model can provide good result only on base dataset."
      ],
      "metadata": {
        "id": "n3UM7o7bJFag"
      }
    },
    {
      "cell_type": "markdown",
      "source": [
        "Now let's check ***ElasticNet algorithm***:"
      ],
      "metadata": {
        "id": "vvvyWDDvJ49C"
      }
    },
    {
      "cell_type": "code",
      "source": [
        "model_pipeline(X, y, rob_scal_elnet_pipe)"
      ],
      "metadata": {
        "colab": {
          "base_uri": "https://localhost:8080/"
        },
        "id": "-Dj-QPiZKIJP",
        "outputId": "862cb694-8df6-45d9-8fe9-c4da7cd2fd46"
      },
      "execution_count": null,
      "outputs": [
        {
          "output_type": "stream",
          "name": "stdout",
          "text": [
            "MODEL: [('robustscaler', RobustScaler()), ('elasticnet', ElasticNet())]\n",
            " R^2 = 0.928\n",
            " MSE = 4.010\n",
            " MAE = 1.467\n",
            "\n"
          ]
        }
      ]
    },
    {
      "cell_type": "code",
      "source": [
        "model_pipeline(X_pca, y, rob_scal_elnet_pipe)"
      ],
      "metadata": {
        "colab": {
          "base_uri": "https://localhost:8080/"
        },
        "id": "K_znRJfKKNu7",
        "outputId": "944b135a-e308-42b2-c7fd-77de4fb2f32d"
      },
      "execution_count": null,
      "outputs": [
        {
          "output_type": "stream",
          "name": "stdout",
          "text": [
            "MODEL: [('robustscaler', RobustScaler()), ('elasticnet', ElasticNet())]\n",
            " R^2 = 0.861\n",
            " MSE = 7.732\n",
            " MAE = 1.958\n",
            "\n"
          ]
        }
      ]
    },
    {
      "cell_type": "code",
      "source": [
        "model_pipeline(X_shrinked, y, rob_scal_elnet_pipe)"
      ],
      "metadata": {
        "colab": {
          "base_uri": "https://localhost:8080/"
        },
        "id": "HLSAVRPIKPGW",
        "outputId": "26746cc1-1e03-4b90-9237-006ee9cb09bb"
      },
      "execution_count": null,
      "outputs": [
        {
          "output_type": "stream",
          "name": "stdout",
          "text": [
            "MODEL: [('robustscaler', RobustScaler()), ('elasticnet', ElasticNet())]\n",
            " R^2 = 0.928\n",
            " MSE = 4.010\n",
            " MAE = 1.467\n",
            "\n"
          ]
        }
      ]
    },
    {
      "cell_type": "markdown",
      "source": [
        "Test shows that dafault ElasticNet model doesn't fit our case. Let's try hyperparameters tuning:"
      ],
      "metadata": {
        "id": "TNAWgrAwKWwO"
      }
    },
    {
      "cell_type": "code",
      "source": [
        "elnet_hparams = {'elasticnet__alpha':[0.01, 0.02, 0.03, 0.04, 0.05, 0.06, 0.07, 0.08, 0.09, 0.1 ,\n",
        "       0.11, 0.12, 0.13, 0.14, 0.15, 0.16, 0.17, 0.18, 0.19, 0.2 , 0.21,\n",
        "       0.22, 0.23, 0.24, 0.25, 0.26, 0.27, 0.28, 0.29, 0.3 , 0.31, 0.32,\n",
        "       0.33, 0.34, 0.35, 0.36, 0.37, 0.38, 0.39, 0.4 , 0.41, 0.42, 0.43,\n",
        "       0.44, 0.45, 0.46, 0.47, 0.48, 0.49, 0.5 , 0.51, 0.52, 0.53, 0.54,\n",
        "       0.55, 0.56, 0.57, 0.58, 0.59, 0.6 , 0.61, 0.62, 0.63, 0.64, 0.65,\n",
        "       0.66, 0.67, 0.68, 0.69, 0.7 , 0.71, 0.72, 0.73, 0.74, 0.75, 0.76,\n",
        "       0.77, 0.78, 0.79, 0.8 , 0.81, 0.82, 0.83, 0.84, 0.85, 0.86, 0.87,\n",
        "       0.88, 0.89, 0.9 , 0.91, 0.92, 0.93, 0.94, 0.95, 0.96, 0.97, 0.98,\n",
        "       0.99],\n",
        "        'elasticnet__l1_ratio':[0.01, 0.02, 0.03, 0.04, 0.05, 0.06, 0.07, 0.08, 0.09, 0.1 ,\n",
        "       0.11, 0.12, 0.13, 0.14, 0.15, 0.16, 0.17, 0.18, 0.19, 0.2 , 0.21,\n",
        "       0.22, 0.23, 0.24, 0.25, 0.26, 0.27, 0.28, 0.29, 0.3 , 0.31, 0.32,\n",
        "       0.33, 0.34, 0.35, 0.36, 0.37, 0.38, 0.39, 0.4 , 0.41, 0.42, 0.43,\n",
        "       0.44, 0.45, 0.46, 0.47, 0.48, 0.49, 0.5 , 0.51, 0.52, 0.53, 0.54,\n",
        "       0.55, 0.56, 0.57, 0.58, 0.59, 0.6 , 0.61, 0.62, 0.63, 0.64, 0.65,\n",
        "       0.66, 0.67, 0.68, 0.69, 0.7 , 0.71, 0.72, 0.73, 0.74, 0.75, 0.76,\n",
        "       0.77, 0.78, 0.79, 0.8 , 0.81, 0.82, 0.83, 0.84, 0.85, 0.86, 0.87,\n",
        "       0.88, 0.89, 0.9 , 0.91, 0.92, 0.93, 0.94, 0.95, 0.96, 0.97, 0.98,\n",
        "       0.99]}"
      ],
      "metadata": {
        "id": "WahoOdcpMcCf"
      },
      "execution_count": null,
      "outputs": []
    },
    {
      "cell_type": "code",
      "source": [
        "model_pipeline_grid(X, y, rob_scal_elnet_pipe, elnet_hparams, cv=3)"
      ],
      "metadata": {
        "colab": {
          "base_uri": "https://localhost:8080/"
        },
        "id": "K7yQKP_RWR2I",
        "outputId": "9dbbb7e7-2ee0-4bcd-eef6-47585cce1dce"
      },
      "execution_count": null,
      "outputs": [
        {
          "output_type": "stream",
          "name": "stdout",
          "text": [
            "MODEL: [('robustscaler', RobustScaler()), ('linearregression', LinearRegression())]\n",
            " \tBest value of cross test = 0.995\n",
            " \tAccuracy on test data = 0.995\n",
            " \tBest parameters:  {'elasticnet__alpha': 0.01, 'elasticnet__l1_ratio': 0.99}\n"
          ]
        }
      ]
    },
    {
      "cell_type": "markdown",
      "source": [
        "Fits the baseline."
      ],
      "metadata": {
        "id": "B1he-nzcPEfj"
      }
    },
    {
      "cell_type": "code",
      "source": [
        "model_pipeline_grid(X_pca, y, rob_scal_elnet_pipe, elnet_hparams, cv=3)"
      ],
      "metadata": {
        "colab": {
          "base_uri": "https://localhost:8080/"
        },
        "id": "bjrnZn22a0Ts",
        "outputId": "50b1f497-1ef3-42b3-c537-3c965aca388b"
      },
      "execution_count": null,
      "outputs": [
        {
          "output_type": "stream",
          "name": "stdout",
          "text": [
            "MODEL: [('robustscaler', RobustScaler()), ('linearregression', LinearRegression())]\n",
            " \tBest value of cross test = 0.972\n",
            " \tAccuracy on test data = 0.973\n",
            " \tBest parameters:  {'elasticnet__alpha': 0.01, 'elasticnet__l1_ratio': 0.99}\n"
          ]
        }
      ]
    },
    {
      "cell_type": "markdown",
      "source": [
        "It's lower the baseline."
      ],
      "metadata": {
        "id": "GBNhgSD6PNcE"
      }
    },
    {
      "cell_type": "code",
      "source": [
        "model_pipeline_grid(X_shrinked, y, rob_scal_elnet_pipe, elnet_hparams, cv=3)"
      ],
      "metadata": {
        "colab": {
          "base_uri": "https://localhost:8080/"
        },
        "id": "sXe1ovZLa3pa",
        "outputId": "b21faeb9-b98f-4013-bfea-ba915d49e2b0"
      },
      "execution_count": null,
      "outputs": [
        {
          "output_type": "stream",
          "name": "stdout",
          "text": [
            "MODEL: [('robustscaler', RobustScaler()), ('linearregression', LinearRegression())]\n",
            " \tBest value of cross test = 0.994\n",
            " \tAccuracy on test data = 0.994\n",
            " \tBest parameters:  {'elasticnet__alpha': 0.01, 'elasticnet__l1_ratio': 0.99}\n"
          ]
        }
      ]
    },
    {
      "cell_type": "markdown",
      "source": [
        "It's lower the baseline."
      ],
      "metadata": {
        "id": "ckitn9BHPTED"
      }
    },
    {
      "cell_type": "markdown",
      "source": [
        "As the conclusion, we tested several linear models: Linear regression, Ridge, Lasso and ElasticNet.\n",
        "In our case the best model could be applied are:\n",
        "- Linear Regression (fit_intercept=True, positive=False) showed $R^2$: 0.995\n",
        "- Ridge (alpha=0.0) showed $R^2$: 0.995\n",
        "- Lasso (alpha=0.01) showed $R^2$: 0.995\n",
        "- ElasticNet (alpha=0.01, l1_ratio=0.99) showed $R^2$: 0.994\n",
        "\n",
        "The best error ratio showed Linear Regression class:\n",
        "- MSE = 0.258\n",
        "- MAE = 0.241\n",
        "\n",
        "The best dataset is the native dataset without feature engineering process.\n",
        "___"
      ],
      "metadata": {
        "id": "U7waiMUVO-3e"
      }
    }
  ]
}